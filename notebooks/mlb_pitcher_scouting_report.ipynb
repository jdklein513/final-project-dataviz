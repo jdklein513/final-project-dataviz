{
 "cells": [
  {
   "cell_type": "markdown",
   "metadata": {},
   "source": [
    "# Starting Pitcher Interactive Scouting Report"
   ]
  },
  {
   "cell_type": "markdown",
   "metadata": {},
   "source": [
    "**Background:**\n",
    "\n",
    "The goal to gain competitive advantages for hitters in Major League Baseball through intel dates back historically to the game's inception. Today, MLB teams prepare detailed scouting packets and reports prior to every game capturing opposing pitchers’ tendencies attempting to provide their hitters an advantage while they are at the plate. \n",
    "\n",
    "Throughout an at-bat, hitters need to be ready to face several pitch types moving in multiple directions, with different movement patterns, thrown at different velocities and directions. This is not an easy task which is why the big leaguers are paid substantial multi-million-dollar salaries to hit a round white ball. For instance, in the case of a 90 mile per hour fastball, the pitch only takes .4 seconds to reach home plate upon release from the pitcher's hand. According to researchers at UC Berkeley, hitters only have about .25 seconds to see the ball as it is moving towards them [(source)](https://www.kqed.org/news/96462/how-can-anyone-hit-a-90-mph-fastball-science-explains). Only 24.4% of pitches thrown were hit in the 2021 season. Any intel enabling a hitter to better guess what pitch is coming next serves a potential advantage against the opposing team. \n",
    "\n",
    "Most MLB teams attempt to prepare their hitters prior to games with analysis on the opposing pitcher, typically including information on pitch locations, velocity, spin rates, and tendencies. Starting in 2015, video technology and cloud services help track pitch-level game events further enabling both in-game and out-of-game baseball analytics. Such tracking capabilities capture every pitch including pitch velocity, location, spin rate, and the result of the pitch (i.e., strike, ball, out, single, home run). Using the publicly available MLB data from [baseballsavant.mlb.com](https://baseballsavant.mlb.com/), this interactive visual scouting report produces valuable insights to hitters preparing pre-game to face MLB starting pitchers.\n",
    "\n",
    "**Scope:** \n",
    "\n",
    "2021 pitch data from starting pitchers w/ over 100 pitches registered.\n",
    "\n",
    "**Notes:**\n",
    "\n",
    "* All pitch heights are normalized to the average MLB hitter top and bottom of the strike zone.\n",
    "* Only the first 9 innings are included\n",
    "* No postseason data is included\n",
    "* Rare pitch types such as knuckleball, eephus, and screwballs are filtered out of the data. "
   ]
  },
  {
   "cell_type": "code",
   "execution_count": 25,
   "metadata": {
    "colab": {
     "base_uri": "https://localhost:8080/"
    },
    "executionInfo": {
     "elapsed": 11373,
     "status": "ok",
     "timestamp": 1657404418800,
     "user": {
      "displayName": "Joel Klein",
      "userId": "12422283647264597477"
     },
     "user_tz": 360
    },
    "extensions": {
     "jupyter_dashboards": {
      "version": 1,
      "views": {
       "default_view": {
        "hidden": true
       }
      }
     }
    },
    "id": "vjGBv3RKg0mS",
    "outputId": "0c869e0c-aa6c-4d5e-b1d5-5a909fde75f0"
   },
   "outputs": [],
   "source": [
    "##### Import Libraries -----\n",
    "\n",
    "# data manipulation\n",
    "import numpy as np\n",
    "import pandas as pd \n",
    "import os\n",
    "import zipfile\n",
    "\n",
    "# image insertion\n",
    "from IPython.display import Image\n",
    "from IPython.core.display import HTML\n",
    "from IPython.display import Markdown as md\n",
    "\n",
    "# widgets\n",
    "import ipywidgets as widgets\n",
    "\n",
    "# plotting\n",
    "import seaborn as sns\n",
    "import matplotlib.pyplot as plt\n",
    "from plotnine import *\n",
    "from matplotlib import gridspec\n",
    "import plotly.graph_objects as go\n",
    "from math import pi\n",
    "\n",
    "# math\n",
    "import math\n",
    "\n",
    "# pybaseball\n",
    "from pybaseball import playerid_reverse_lookup\n",
    "import pybaseball as pyb\n",
    "\n",
    "\n",
    "##### Global Options -----\n",
    "\n",
    "# do not show warnings\n",
    "import warnings\n",
    "warnings.filterwarnings('ignore')\n",
    "\n",
    "# set pandas display options\n",
    "pd.set_option('display.max_rows', 500)\n",
    "pd.set_option('display.max_columns', 500)\n",
    "pd.set_option('display.width', 2000)\n",
    "pd.set_option('display.max_colwidth', 2000)\n",
    "pd.options.display.float_format = '{:.5f}'.format\n",
    "\n",
    "# set data directory\n",
    "DATA_DIR = \"C:/Users/13202/final-project-dataviz/data\""
   ]
  },
  {
   "cell_type": "code",
   "execution_count": 54,
   "metadata": {},
   "outputs": [],
   "source": [
    "##### Define Functions -----\n",
    "\n",
    "'''\n",
    "define a function for loading in dataset\n",
    "'''\n",
    "def load_data(in_path, name):\n",
    "    df = pd.read_csv(in_path, sep=';')\n",
    "    return df\n",
    "\n",
    "'''\n",
    "Define a function to filter the original statcast data to the desired scope\n",
    "'''\n",
    "def statcast_df_filter(data,\n",
    "                       pitcher_name_filter,\n",
    "                       pitch_name_filter,\n",
    "                       stand_filter,\n",
    "                       batter_name_filter, \n",
    "                       count_filter,\n",
    "                       count_advantage_filter,\n",
    "                       outs_when_up_filter,\n",
    "                       inning_filter,\n",
    "                       runners_on_base_filter,\n",
    "                       run_differential_filter):\n",
    "    \n",
    "    # filter pitcher name\n",
    "    statcast_df_filtered = data[data['pitcher_name'] == pitcher_name_filter]\n",
    "    \n",
    "    # filter pitch name\n",
    "    statcast_df_filtered = statcast_df_filtered[statcast_df_filtered['pitch_name'].isin(pitch_name_filter)]\n",
    "    \n",
    "    # filter batter stance\n",
    "    statcast_df_filtered = statcast_df_filtered[statcast_df_filtered['stand'].isin(stand_filter)]\n",
    "    \n",
    "    # filter batter name\n",
    "    if batter_name_filter != 'All':\n",
    "        statcast_df_filtered = statcast_df_filtered[statcast_df_filtered['batter_name'] == batter_name_filter]\n",
    "        \n",
    "    # filter count\n",
    "    statcast_df_filtered = statcast_df_filtered[statcast_df_filtered['count'].isin(count_filter)]\n",
    "    \n",
    "    # filter count advantage\n",
    "    statcast_df_filtered = statcast_df_filtered[statcast_df_filtered['count_advantage'].isin(count_advantage_filter)]\n",
    "    \n",
    "    # filter outs\n",
    "    statcast_df_filtered = statcast_df_filtered[statcast_df_filtered['outs_when_up'].isin(outs_when_up_filter)]\n",
    "    \n",
    "    # filter inning\n",
    "    statcast_df_filtered = statcast_df_filtered[statcast_df_filtered['inning'].isin(inning_filter)]\n",
    "    \n",
    "    # filter runners on base\n",
    "    statcast_df_filtered = statcast_df_filtered[statcast_df_filtered['runners_on_base'].isin(runners_on_base_filter)]\n",
    "    \n",
    "    # filter run differential\n",
    "    statcast_df_filtered = statcast_df_filtered[(statcast_df_filtered['run_differential'] >= run_differential_filter[0]) &\n",
    "                                                (statcast_df_filtered['run_differential'] <= run_differential_filter[1])]\n",
    "    \n",
    "    return statcast_df_filtered\n",
    "\n",
    "\n",
    "'''\n",
    "Define a function to filter the original statcast data to the desired scope.\n",
    "Does not filter on pitcher.\n",
    "'''\n",
    "def statcast_df_non_pitcher_filter(data,\n",
    "                                   pitcher_name_filter,\n",
    "                                   pitch_name_filter,\n",
    "                                   stand_filter,\n",
    "                                   batter_name_filter, \n",
    "                                   count_filter,\n",
    "                                   count_advantage_filter,\n",
    "                                   outs_when_up_filter,\n",
    "                                   inning_filter,\n",
    "                                   runners_on_base_filter,\n",
    "                                   run_differential_filter):\n",
    "    \n",
    "    # filter pitch name\n",
    "    statcast_df_filtered = data[data['pitch_name'].isin(pitch_name_filter)]\n",
    "    \n",
    "    # filter batter stance\n",
    "    statcast_df_filtered = statcast_df_filtered[statcast_df_filtered['stand'].isin(stand_filter)]\n",
    "    \n",
    "    # filter batter name\n",
    "    if batter_name_filter != 'All':\n",
    "        statcast_df_filtered = statcast_df_filtered[statcast_df_filtered['batter_name'] == batter_name_filter]\n",
    "        \n",
    "    # filter count\n",
    "    statcast_df_filtered = statcast_df_filtered[statcast_df_filtered['count'].isin(count_filter)]\n",
    "    \n",
    "    # filter count advantage\n",
    "    statcast_df_filtered = statcast_df_filtered[statcast_df_filtered['count_advantage'].isin(count_advantage_filter)]\n",
    "    \n",
    "    # filter outs\n",
    "    statcast_df_filtered = statcast_df_filtered[statcast_df_filtered['outs_when_up'].isin(outs_when_up_filter)]\n",
    "    \n",
    "    # filter inning\n",
    "    statcast_df_filtered = statcast_df_filtered[statcast_df_filtered['inning'].isin(inning_filter)]\n",
    "    \n",
    "    # filter runners on base\n",
    "    statcast_df_filtered = statcast_df_filtered[statcast_df_filtered['runners_on_base'].isin(runners_on_base_filter)]\n",
    "    \n",
    "    # filter run differential\n",
    "    statcast_df_filtered = statcast_df_filtered[(statcast_df_filtered['run_differential'] >= run_differential_filter[0]) &\n",
    "                                                (statcast_df_filtered['run_differential'] <= run_differential_filter[1])]\n",
    "    \n",
    "    return statcast_df_filtered\n",
    "\n",
    "\n",
    "'''\n",
    "Define a function to print number of pitches given dashboard filters\n",
    "'''\n",
    "def number_of_pitches(data,\n",
    "                      pitcher_name_filter,\n",
    "                      pitch_name_filter,\n",
    "                      stand_filter,\n",
    "                      batter_name_filter, \n",
    "                      count_filter,\n",
    "                      count_advantage_filter,\n",
    "                      outs_when_up_filter,\n",
    "                      inning_filter,\n",
    "                      runners_on_base_filter,\n",
    "                      run_differential_filter):\n",
    "    \n",
    "    # filter data\n",
    "    statcast_df_filtered = statcast_df_filter(data,\n",
    "                                              pitcher_name_filter,\n",
    "                                              pitch_name_filter,\n",
    "                                              stand_filter,\n",
    "                                              batter_name_filter, \n",
    "                                              count_filter,\n",
    "                                              count_advantage_filter,\n",
    "                                              outs_when_up_filter,\n",
    "                                              inning_filter,\n",
    "                                              runners_on_base_filter,\n",
    "                                              run_differential_filter)\n",
    "    \n",
    "    num_observations = len(statcast_df_filtered)\n",
    "    \n",
    "    display(md(\"**<font size='8'>{}</font>**\".format(num_observations)))\n",
    "    \n",
    "\n",
    "'''\n",
    "Define a function to print bar plot of pitch selection percents given dashboard filters\n",
    "'''\n",
    "def pitch_selection_bar(data,\n",
    "                        pitcher_name_filter,\n",
    "                        pitch_name_filter,\n",
    "                        stand_filter,\n",
    "                        batter_name_filter, \n",
    "                        count_filter,\n",
    "                        count_advantage_filter,\n",
    "                        outs_when_up_filter,\n",
    "                        inning_filter,\n",
    "                        runners_on_base_filter,\n",
    "                        run_differential_filter):\n",
    "    \n",
    "    # filter data\n",
    "    statcast_df_filtered = statcast_df_filter(data,\n",
    "                                              pitcher_name_filter,\n",
    "                                              pitch_name_filter,\n",
    "                                              stand_filter,\n",
    "                                              batter_name_filter, \n",
    "                                              count_filter,\n",
    "                                              count_advantage_filter,\n",
    "                                              outs_when_up_filter,\n",
    "                                              inning_filter,\n",
    "                                              runners_on_base_filter,\n",
    "                                              run_differential_filter)\n",
    "    \n",
    "    # create a dataframe with counts and relative frequency of pitch name\n",
    "    temp_df1 = pd.DataFrame(statcast_df_filtered.groupby(['pitch_name'])['pitch_name'].count())\n",
    "    temp_df1 = pd.DataFrame(temp_df1['pitch_name'] / temp_df1.groupby([True]*len(temp_df1))['pitch_name'].transform('sum')).add_suffix('_percent').reset_index()\n",
    "\n",
    "    # determine order and create a categorical type of pitch name\n",
    "    pitch_name_list = temp_df1.sort_values(by = 'pitch_name_percent').pitch_name.tolist()\n",
    "    pitch_name_cat = pd.Categorical(temp_df1['pitch_name'], categories = pitch_name_list)\n",
    "\n",
    "    # assign category to a new column\n",
    "    temp_df1 = temp_df1.assign(pitch_name_cat = pitch_name_cat)\n",
    "\n",
    "    # plot a bar chart of the relative frequency of pitch selection\n",
    "    (ggplot(temp_df1) +\n",
    "      aes(x = 'pitch_name_cat', y = 'pitch_name_percent', fill = 'pitch_name') +\n",
    "      geom_bar(size = 20, stat = 'identity') +\n",
    "      coord_flip() +\n",
    "      geom_text(aes(label = 'pitch_name_percent*100'), format_string = '{:.1f}%', position = position_stack(vjust = 0.5)) +\n",
    "      scale_y_continuous(labels = lambda l: [\"%d%%\" % (v * 100) for v in l]) +\n",
    "      labs(x = \"Pitch Type\", y = \"% of Pitches\", title = \"Pitch Selection Breakdown\", fill = \"\")  +\n",
    "      theme_minimal() +\n",
    "      theme(legend_position = \"none\",\n",
    "            panel_grid_major = element_blank(),\n",
    "\t    panel_grid_minor = element_blank(),\n",
    "            axis_title_y = element_text(angle = 0, margin = dict([('r', 40)])),\n",
    "            axis_title_x = element_text(angle = 0, margin = dict([('t', 15)])),\n",
    "            figure_size = (8, 5))).draw();\n",
    "    \n",
    "    \n",
    "'''\n",
    "Define a function to plot pitch frequency by count given dashboard filters\n",
    "'''\n",
    "def pitch_count_sankey(data,\n",
    "                       pitcher_name_filter,\n",
    "                       pitch_name_filter,\n",
    "                       stand_filter,\n",
    "                       batter_name_filter, \n",
    "                       count_filter,\n",
    "                       count_advantage_filter,\n",
    "                       outs_when_up_filter,\n",
    "                       inning_filter,\n",
    "                       runners_on_base_filter,\n",
    "                       run_differential_filter):\n",
    "    \n",
    "    # filter data\n",
    "    statcast_df_filtered = statcast_df_filter(data,\n",
    "                                              pitcher_name_filter,\n",
    "                                              pitch_name_filter,\n",
    "                                              stand_filter,\n",
    "                                              batter_name_filter, \n",
    "                                              count_filter,\n",
    "                                              count_advantage_filter,\n",
    "                                              outs_when_up_filter,\n",
    "                                              inning_filter,\n",
    "                                              runners_on_base_filter,\n",
    "                                              run_differential_filter)\n",
    "\n",
    "    # calculate number of pitches in each source/target\n",
    "    count_df = statcast_df_filtered.groupby(['count', 'lead_count'])['pitch_number'].agg('count').reset_index()\n",
    "\n",
    "    # specify a reference table with the count labels and their locations in the sankey chart\n",
    "    d = {'count': ['0-0', '0-1',  '0-2', '1-1', '1-0',  '2-0', '1-2', '2-1', '2-2', '3-0', '3-1', '3-2'],\n",
    "         'x':     ['0',   '0.2',  '0.4', '0.4', '0.2',  '0.4', '0.6', '0.6', '0.8', '0.6', '0.8', '1'],\n",
    "         'y':     ['0.5', '0.75', '1',   '0.5', '0.25', '0',   '1',   '0.5', '0.75', '0', '0.25', '0.5'],\n",
    "         'count_index': [*range(12)]}\n",
    "\n",
    "    count_ref_df = pd.DataFrame(data=d)\n",
    "\n",
    "    # merge the count index\n",
    "    tmp_df = count_df.merge(count_ref_df, how='left', on='count')\n",
    "\n",
    "    # merge the next count index\n",
    "    final_count_df = tmp_df.merge(count_ref_df, how='left', left_on='lead_count', right_on='count', suffixes=('', '_lead'))\n",
    "\n",
    "    # plot the sankey chart\n",
    "    fig = go.FigureWidget(data=[go.Sankey(\n",
    "        arrangement = \"snap\",\n",
    "        valueformat = \".0f\",\n",
    "        valuesuffix = \" pitches\",\n",
    "        node = dict(\n",
    "          pad = 15,\n",
    "          thickness = 20,\n",
    "          line = dict(color = \"black\", width = 0.5),\n",
    "          label = count_ref_df['count'],\n",
    "          x = list(count_ref_df['x']),\n",
    "          y = list(count_ref_df['y']),\n",
    "          color = \"blue\"\n",
    "        ),\n",
    "        link = dict(\n",
    "          source = list(final_count_df['count_index']),\n",
    "          target = list(final_count_df['count_index_lead']),\n",
    "          value = list(final_count_df['pitch_number'])\n",
    "      ))])\n",
    "\n",
    "    fig.update_layout(title_text=\"Pitch Count Flow\", \n",
    "                      font_size=12, \n",
    "                      autosize=False,\n",
    "                      width=900,\n",
    "                      height=600)\n",
    "\n",
    "    fig.show(renderer=\"png\")\n",
    "    \n",
    "    \n",
    "'''\n",
    "Define a function to plot pitch type percent by count given dashboard filters\n",
    "'''    \n",
    "def pitch_count_stacked_bar(data,\n",
    "                            pitcher_name_filter,\n",
    "                            pitch_name_filter,\n",
    "                            stand_filter,\n",
    "                            batter_name_filter, \n",
    "                            count_filter,\n",
    "                            count_advantage_filter,\n",
    "                            outs_when_up_filter,\n",
    "                            inning_filter,\n",
    "                            runners_on_base_filter,\n",
    "                            run_differential_filter):\n",
    "    \n",
    "    # filter data\n",
    "    statcast_df_filtered = statcast_df_filter(data,\n",
    "                                              pitcher_name_filter,\n",
    "                                              pitch_name_filter,\n",
    "                                              stand_filter,\n",
    "                                              batter_name_filter, \n",
    "                                              count_filter,\n",
    "                                              count_advantage_filter,\n",
    "                                              outs_when_up_filter,\n",
    "                                              inning_filter,\n",
    "                                              runners_on_base_filter,\n",
    "                                              run_differential_filter)\n",
    "    \n",
    "    # create a dataframe with counts and relative frequency of count\n",
    "    temp_df1 = pd.DataFrame(statcast_df_filtered.groupby(['count'])['count'].count())\n",
    "    temp_df1 = pd.DataFrame(temp_df1['count'] / temp_df1.groupby([True]*len(temp_df1))['count'].transform('sum')).add_suffix('_percent').reset_index()\n",
    "\n",
    "    # determine order and create a categorical type of count\n",
    "    count_list = temp_df1.sort_values(by = 'count_percent')['count'].tolist()\n",
    "    count_cat = pd.Categorical(temp_df1['count'], categories = count_list)\n",
    "\n",
    "    # assign category to a new column\n",
    "    temp_df1 = temp_df1.assign(count_cat = count_cat)\n",
    "\n",
    "    # create a dataframe with counts and relative frequency of count and pitch name\n",
    "    temp_df2 = pd.DataFrame(statcast_df_filtered.groupby(['count', 'pitch_name'])['count'].count()).add_suffix('_group').reset_index()\n",
    "    temp_df3 = pd.DataFrame(temp_df2['count_group'] / temp_df2.groupby('count')['count_group'].transform('sum')).add_suffix('_percent')\n",
    "    temp_df4 = pd.concat([temp_df2.reset_index(drop = True), temp_df3], axis = 1)\n",
    "\n",
    "    # determine order and create a categorical type of count\n",
    "    count_list = temp_df1.sort_values(by = 'count_percent')['count'].tolist()\n",
    "    count_cat = pd.Categorical(temp_df4['count'], categories = count_list)\n",
    "\n",
    "    # assign category to a new column\n",
    "    temp_df4 = temp_df4.assign(count_cat = count_cat)\n",
    "\n",
    "    # plot a bar chart of the relative frequency of pitch selection by count\n",
    "    (ggplot(temp_df4) +\n",
    "      aes(x = 'count_cat', y = 'count_group_percent', fill = 'pitch_name') +\n",
    "      geom_bar(size = 20, stat = 'identity', position = \"stack\") +\n",
    "      coord_flip() +\n",
    "      geom_text(aes(label = 'count_group_percent*100'), format_string = '{:.1f}%', position = position_stack(vjust = 0.5)) +\n",
    "      scale_y_continuous(labels = lambda l: [\"%d%%\" % (v * 100) for v in l]) +\n",
    "      labs(x = \"Count\", y = \"% of Pitches\", title = \"Pitch Count Breakdown\", fill = \"Pitch Type\") +\n",
    "      theme_minimal() +\n",
    "      theme(panel_grid_major = element_blank(),\n",
    "            panel_grid_minor = element_blank(),\n",
    "            axis_title_y = element_text(angle = 0, margin = dict([('r', 40)])),\n",
    "            axis_title_x = element_text(angle = 0, margin = dict([('t', 15)])),\n",
    "            figure_size = (8, 5))).draw();\n",
    "    \n",
    "    \n",
    "'''\n",
    "Define a function to plot pitch type percent by count advantage given dashboard filters\n",
    "'''\n",
    "def pitch_count_advantage_stacked_bar(data,\n",
    "                                      pitcher_name_filter,\n",
    "                                      pitch_name_filter,\n",
    "                                      stand_filter,\n",
    "                                      batter_name_filter, \n",
    "                                      count_filter,\n",
    "                                      count_advantage_filter,\n",
    "                                      outs_when_up_filter,\n",
    "                                      inning_filter,\n",
    "                                      runners_on_base_filter,\n",
    "                                      run_differential_filter):\n",
    "    \n",
    "    # filter data\n",
    "    statcast_df_filtered = statcast_df_filter(data,\n",
    "                                              pitcher_name_filter,\n",
    "                                              pitch_name_filter,\n",
    "                                              stand_filter,\n",
    "                                              batter_name_filter, \n",
    "                                              count_filter,\n",
    "                                              count_advantage_filter,\n",
    "                                              outs_when_up_filter,\n",
    "                                              inning_filter,\n",
    "                                              runners_on_base_filter,\n",
    "                                              run_differential_filter)\n",
    "\n",
    "    # create a dataframe with counts and relative frequency\n",
    "    temp_df2 = pd.DataFrame(statcast_df_filtered.groupby(['count_advantage', 'pitch_name'])['count_advantage'].count()).add_suffix('_group').reset_index()\n",
    "    temp_df3 = pd.DataFrame(temp_df2['count_advantage_group'] / temp_df2.groupby('count_advantage')['count_advantage_group'].transform('sum')).add_suffix('_percent')\n",
    "    temp_df4 = pd.concat([temp_df2.reset_index(drop=True), temp_df3], axis = 1)\n",
    "\n",
    "    # plot a bar chart of the relative frequency of pitch selection by count\n",
    "    (ggplot(temp_df4) +\n",
    "      aes(x = 'count_advantage', y = 'count_advantage_group_percent', fill = 'pitch_name') +\n",
    "      geom_bar(size = 20, stat = 'identity', position = \"stack\") +\n",
    "      coord_flip() +\n",
    "      geom_text(aes(label = 'count_advantage_group_percent*100'), format_string = '{:.1f}%', position = position_stack(vjust = 0.5)) +\n",
    "      scale_y_continuous(labels = lambda l: [\"%d%%\" % (v * 100) for v in l]) +\n",
    "      labs(x = \"Pitcher\\nCount\\nAdvantage\", y = \"% of Pitches\", title = \"Pitch Count Breakdown\", fill = \"Pitch Type\") +\n",
    "      theme_minimal() +\n",
    "      theme(panel_grid_major = element_blank(),\n",
    "            panel_grid_minor = element_blank(),\n",
    "            axis_title_y = element_text(angle = 0, margin = dict([('r', 40)])),\n",
    "            axis_title_x = element_text(angle = 0, margin = dict([('t', 15)])),\n",
    "            figure_size = (8, 2))).draw();\n",
    "    \n",
    "\n",
    "'''\n",
    "Define a function to plot pitch location broken down by selection given dashboard filters\n",
    "'''\n",
    "def plot_pitch_location(data,\n",
    "                        pitcher_name_filter,\n",
    "                        pitch_name_filter,\n",
    "                        stand_filter,\n",
    "                        batter_name_filter, \n",
    "                        count_filter,\n",
    "                        count_advantage_filter,\n",
    "                        outs_when_up_filter,\n",
    "                        inning_filter,\n",
    "                        runners_on_base_filter,\n",
    "                        run_differential_filter,\n",
    "                        breakdown_var_filter):\n",
    "    \n",
    "    # filter data\n",
    "    statcast_df_filtered = statcast_df_filter(data,\n",
    "                                              pitcher_name_filter,\n",
    "                                              pitch_name_filter,\n",
    "                                              stand_filter,\n",
    "                                              batter_name_filter, \n",
    "                                              count_filter,\n",
    "                                              count_advantage_filter,\n",
    "                                              outs_when_up_filter,\n",
    "                                              inning_filter,\n",
    "                                              runners_on_base_filter,\n",
    "                                              run_differential_filter)\n",
    "\n",
    "    # initialise a list which will store the breakdown plots\n",
    "    plots = list()\n",
    "\n",
    "    # initialize the breakdown variable\n",
    "    if breakdown_var_filter == 'none':\n",
    "        breakdown = statcast_df_filtered['pitcher_name']\n",
    "    else:\n",
    "        breakdown = statcast_df_filtered[breakdown_var_filter]\n",
    "\n",
    "    # get breakdown variable categories\n",
    "    categories = breakdown.value_counts().index.tolist()\n",
    "\n",
    "    # create subplot for each level of category in breakdown variable\n",
    "    for j, i in enumerate(categories):\n",
    "        \n",
    "        dat = statcast_df_filtered[breakdown == i]\n",
    "        \n",
    "        # if number of pitches is greater than 50\n",
    "        # plot 2d density of pitch location\n",
    "        if len(dat) >= 50:\n",
    "            \n",
    "            if j == 0:\n",
    "                leg_pos = 'bottom'\n",
    "            else:\n",
    "                leg_pos = 'none'\n",
    "            \n",
    "            p1 = (ggplot(dat) +\n",
    "                    aes(x = 'plate_x*-1', y = 'plate_z_norm') +\n",
    "                    stat_density_2d(aes(fill = 'stat(..level..)'), geom = \"polygon\", levels = 30) +\n",
    "                    geom_rect(aes(xmin = -0.83, xmax = 0.83, ymin = 1.574895560522476, ymax = 3.394016229859721), alpha = 0, color = 'white') +\n",
    "                    coord_cartesian(ylim = [1, 4], xlim = [-1.66, 1.66]) +\n",
    "                    labs(title = i, fill='           Density') +\n",
    "                    theme_minimal() +\n",
    "                    theme(legend_position = leg_pos,\n",
    "                          panel_background = element_rect(fill = '#440154FF', color = '#440154FF'),\n",
    "                          panel_grid_major = element_blank(),\n",
    "                          panel_grid_minor = element_blank(),\n",
    "                          axis_title_y = element_text(angle = 0, margin = dict([('r', 40)])),\n",
    "                          axis_title_x = element_text(angle = 0, margin = dict([('t', 15)])),\n",
    "                          axis_ticks = element_blank(),\n",
    "                          axis_text = element_blank(),\n",
    "                          figure_size = (10, 5)))\n",
    "        else:\n",
    "            p1 = (ggplot(dat) +\n",
    "                    aes(x = 'plate_x*-1', y = 'plate_z_norm') +\n",
    "                    geom_point(alpha=.3) +\n",
    "                    geom_rect(aes(xmin = -0.83, xmax = 0.83, ymin = 1.574895560522476, ymax = 3.394016229859721), alpha = 0, color = 'grey') +\n",
    "                    coord_cartesian(ylim = [1, 4], xlim = [-1.66, 1.66]) +\n",
    "                    labs(title = i) +\n",
    "                    theme_minimal() +\n",
    "                    theme(legend_position = 'none',\n",
    "                          panel_grid_major = element_blank(),\n",
    "                          panel_grid_minor = element_blank(),\n",
    "                          axis_title_y = element_text(angle = 0, margin = dict([('r', 40)])),\n",
    "                          axis_title_x = element_text(angle = 0, margin = dict([('t', 15)])),\n",
    "                          axis_ticks = element_blank(),\n",
    "                          axis_text = element_blank(),\n",
    "                          figure_size = (10, 5)))\n",
    "\n",
    "        # append plot to list\n",
    "        plots.append(p1)\n",
    "\n",
    "    # create empty figure for subplots to be added\n",
    "    fig = (ggplot() + \n",
    "              geom_blank(data = statcast_df_filtered) + \n",
    "              theme_void() + \n",
    "              theme(figure_size = (5*len(categories), 5))).draw()\n",
    "\n",
    "    # create grid specification\n",
    "    gs = gridspec.GridSpec(1, len(categories))\n",
    "\n",
    "    # initialise a blank list for the subplots\n",
    "    ax = list()\n",
    "\n",
    "    # for each level of the category assign subplot to grid\n",
    "    for i in range(len(categories)):\n",
    "        ax.append(fig.add_subplot(gs[0, i]))\n",
    "        ax[i].set_title(categories[i])\n",
    "\n",
    "        # add subplot to figure\n",
    "        _ = plots[i]._draw_using_figure(fig, [ax[i]])\n",
    "\n",
    "    # show figure\n",
    "    fig.show()\n",
    "    \n",
    "    \n",
    "'''\n",
    "Define a function to plot scatterplot of pitch movement by pitch type given dashboard filters\n",
    "'''\n",
    "def pitch_movement_scatter(data,\n",
    "                           pitcher_name_filter,\n",
    "                           pitch_name_filter,\n",
    "                           stand_filter,\n",
    "                           batter_name_filter, \n",
    "                           count_filter,\n",
    "                           count_advantage_filter,\n",
    "                           outs_when_up_filter,\n",
    "                           inning_filter,\n",
    "                           runners_on_base_filter,\n",
    "                           run_differential_filter):\n",
    "    \n",
    "    # filter data\n",
    "    statcast_df_filtered = statcast_df_filter(data,\n",
    "                                              pitcher_name_filter,\n",
    "                                              pitch_name_filter,\n",
    "                                              stand_filter,\n",
    "                                              batter_name_filter, \n",
    "                                              count_filter,\n",
    "                                              count_advantage_filter,\n",
    "                                              outs_when_up_filter,\n",
    "                                              inning_filter,\n",
    "                                              runners_on_base_filter,\n",
    "                                              run_differential_filter)\n",
    "\n",
    "    # plot the pitch movement by pitch name\n",
    "    (ggplot(statcast_df_filtered) +\n",
    "       aes(x = 'pfx_x*-12', y = 'pfx_z*12', color = 'pitch_name') +\n",
    "       geom_point() +\n",
    "       scale_x_continuous(limits = [-36, 36], breaks = list(range(-36, 48, 12))) +\n",
    "       labs(x = \"Horizontal Movement\", y = \"Vertical \\nMovement\", title = \"Pitch Movement (inches) by Pitch Type\", color = \"Pitch Type\") +\n",
    "       theme_minimal() +\n",
    "       theme(panel_grid_major = element_blank(),\n",
    "             panel_grid_minor = element_blank(),\n",
    "             axis_title_y = element_text(angle = 0, margin = dict([('r', 40)])),\n",
    "             axis_title_x = element_text(angle = 0, margin = dict([('t', 15)])),\n",
    "             figure_size = (5, 5))).draw();\n",
    "    \n",
    "\n",
    "'''\n",
    "Define a function to plot scatterplot of pitch release point by pitch type given dashboard filters\n",
    "'''\n",
    "def pitch_release_scatter(data,\n",
    "                          pitcher_name_filter,\n",
    "                          pitch_name_filter,\n",
    "                          stand_filter,\n",
    "                          batter_name_filter, \n",
    "                          count_filter,\n",
    "                          count_advantage_filter,\n",
    "                          outs_when_up_filter,\n",
    "                          inning_filter,\n",
    "                          runners_on_base_filter,\n",
    "                          run_differential_filter):\n",
    "    \n",
    "    # filter data\n",
    "    statcast_df_filtered = statcast_df_filter(data,\n",
    "                                              pitcher_name_filter,\n",
    "                                              pitch_name_filter,\n",
    "                                              stand_filter,\n",
    "                                              batter_name_filter, \n",
    "                                              count_filter,\n",
    "                                              count_advantage_filter,\n",
    "                                              outs_when_up_filter,\n",
    "                                              inning_filter,\n",
    "                                              runners_on_base_filter,\n",
    "                                              run_differential_filter)\n",
    "\n",
    "    # plot the pitch release position by pitch type\n",
    "    (ggplot(statcast_df_filtered) +\n",
    "       aes(x = 'release_pos_x', y = 'release_pos_z', color = 'pitch_name') +\n",
    "       geom_point() +\n",
    "       scale_x_continuous(limits = [-5, 5]) +\n",
    "       scale_y_continuous(limits = [0, 7]) +\n",
    "       labs(x = \"Horizontal Release Point\", y = \"Vertical \\nRelease\\nPoint\", title = \"Pitch Release Point (feet) by Pitch Type\", color = \"Pitch Type\") +\n",
    "       theme_minimal() +\n",
    "       theme(panel_grid_major = element_blank(),\n",
    "             panel_grid_minor = element_blank(),\n",
    "             axis_title_y = element_text(angle = 0, margin = dict([('r', 40)])),\n",
    "             axis_title_x = element_text(angle = 0, margin = dict([('t', 15)])),\n",
    "             figure_size = (5, 5))).draw();\n",
    "    \n",
    "\n",
    "'''\n",
    "Define a function to plot bar plot of pitch event results given dashboard filters\n",
    "'''\n",
    "def pitch_result_bar(data,\n",
    "                     pitcher_name_filter,\n",
    "                     pitch_name_filter,\n",
    "                     stand_filter,\n",
    "                     batter_name_filter, \n",
    "                     count_filter,\n",
    "                     count_advantage_filter,\n",
    "                     outs_when_up_filter,\n",
    "                     inning_filter,\n",
    "                     runners_on_base_filter,\n",
    "                     run_differential_filter):\n",
    "    \n",
    "    # filter data\n",
    "    statcast_df_filtered = statcast_df_filter(data,\n",
    "                                              pitcher_name_filter,\n",
    "                                              pitch_name_filter,\n",
    "                                              stand_filter,\n",
    "                                              batter_name_filter, \n",
    "                                              count_filter,\n",
    "                                              count_advantage_filter,\n",
    "                                              outs_when_up_filter,\n",
    "                                              inning_filter,\n",
    "                                              runners_on_base_filter,\n",
    "                                              run_differential_filter)\n",
    "\n",
    "    # create a dataframe with counts and relative frequency of event\n",
    "    temp_df1 = pd.DataFrame(statcast_df_filtered.groupby(['events'])['events'].count())\n",
    "    temp_df1 = pd.DataFrame(temp_df1['events'] / temp_df1.groupby([True]*len(temp_df1))['events'].transform('sum')).add_suffix('_percent').reset_index()\n",
    "\n",
    "    # order and create a categorical variable of event\n",
    "    events_list = temp_df1.sort_values(by = 'events_percent').events.tolist()\n",
    "    events_cat = pd.Categorical(temp_df1['events'], categories = events_list)\n",
    "\n",
    "    # assign category to a new column\n",
    "    temp_df1 = temp_df1.assign(events_cat = events_cat)\n",
    "\n",
    "    # plot a bar chart of the relative frequency of at bat event\n",
    "    (ggplot(temp_df1) +\n",
    "      aes(x = 'events_cat', y = 'events_percent', fill = 'events') +\n",
    "      geom_bar(size = 20, stat = 'identity') +\n",
    "      coord_flip() +\n",
    "      geom_text(aes(label = 'events_percent*100'), format_string = '{:.1f}%', position=position_stack(vjust = 0.5)) +\n",
    "      scale_y_continuous(labels = lambda l: [\"%d%%\" % (v * 100) for v in l]) +\n",
    "      labs(x = \"Result Type\", y = \"% of At-bats\", title = \"Results Breakdown\", fill = \"\")  +\n",
    "      theme_minimal() +\n",
    "      theme(legend_position = \"none\",\n",
    "            panel_grid_major = element_blank(),\n",
    "            panel_grid_minor = element_blank(),\n",
    "            axis_title_y = element_text(angle = 0, margin = dict([('r', 40)])),\n",
    "            axis_title_x = element_text(angle = 0, margin = dict([('t', 15)])),\n",
    "            figure_size = (8, 5))).draw();\n",
    "    \n",
    "\n",
    "'''\n",
    "Define a function to plot bar plot of batted ball type given dashboard filters\n",
    "'''\n",
    "def pitch_bb_type_bar(data,\n",
    "                      pitcher_name_filter,\n",
    "                      pitch_name_filter,\n",
    "                      stand_filter,\n",
    "                      batter_name_filter, \n",
    "                      count_filter,\n",
    "                      count_advantage_filter,\n",
    "                      outs_when_up_filter,\n",
    "                      inning_filter,\n",
    "                      runners_on_base_filter,\n",
    "                      run_differential_filter):\n",
    "    \n",
    "    # filter data\n",
    "    statcast_df_filtered = statcast_df_filter(data,\n",
    "                                              pitcher_name_filter,\n",
    "                                              pitch_name_filter,\n",
    "                                              stand_filter,\n",
    "                                              batter_name_filter, \n",
    "                                              count_filter,\n",
    "                                              count_advantage_filter,\n",
    "                                              outs_when_up_filter,\n",
    "                                              inning_filter,\n",
    "                                              runners_on_base_filter,\n",
    "                                              run_differential_filter)\n",
    "    \n",
    "    # create a dataframe with counts and relative frequency of batted ball type\n",
    "    temp_df1 = pd.DataFrame(statcast_df_filtered[statcast_df_filtered['batted_ball_type'] != \"nan\"].groupby(['batted_ball_type'])['batted_ball_type'].count())\n",
    "    temp_df1 = pd.DataFrame(temp_df1['batted_ball_type'] / temp_df1.groupby([True]*len(temp_df1))['batted_ball_type'].transform('sum')).add_suffix('_percent').reset_index()\n",
    "\n",
    "    # order and create a categorical variable of batted ball type\n",
    "    batted_ball_type_list = temp_df1.sort_values(by = 'batted_ball_type_percent').batted_ball_type.tolist()\n",
    "    batted_ball_type_cat = pd.Categorical(temp_df1['batted_ball_type'], categories = batted_ball_type_list)\n",
    "\n",
    "    # assign category to a new column\n",
    "    temp_df1 = temp_df1.assign(batted_ball_type_cat = batted_ball_type_cat)\n",
    "\n",
    "    # plot a bar chart of the relative frequency of batted ball type\n",
    "    (ggplot(temp_df1) +\n",
    "      aes(x = 'batted_ball_type_cat', y = 'batted_ball_type_percent', fill = 'batted_ball_type') +\n",
    "      geom_bar(size = 20, stat = 'identity') +\n",
    "      coord_flip() +\n",
    "      geom_text(aes(label = 'batted_ball_type_percent*100'), format_string = '{:.1f}%', position = position_stack(vjust = 0.5)) +\n",
    "      scale_y_continuous(labels = lambda l: [\"%d%%\" % (v * 100) for v in l]) +\n",
    "      labs(x = \"Result Type\", y = \"% of At-bats\", title = \"Results Breakdown\", fill = \"\")  +\n",
    "      theme_minimal() +\n",
    "      theme(legend_position = \"none\",\n",
    "            panel_grid_major = element_blank(),\n",
    "            panel_grid_minor = element_blank(),\n",
    "            axis_title_y = element_text(angle = 0, margin = dict([('r', 40)])),\n",
    "            axis_title_x = element_text(angle = 0, margin = dict([('t', 15)])),\n",
    "            figure_size=(8, 5))).draw();\n",
    "    \n",
    "    \n",
    "'''\n",
    "Define a function to plot scatterplot of batted balls given dashboard filters\n",
    "'''\n",
    "def pitch_bb_location(data,\n",
    "                      pitcher_name_filter,\n",
    "                      pitch_name_filter,\n",
    "                      stand_filter,\n",
    "                      batter_name_filter, \n",
    "                      count_filter,\n",
    "                      count_advantage_filter,\n",
    "                      outs_when_up_filter,\n",
    "                      inning_filter,\n",
    "                      runners_on_base_filter,\n",
    "                      run_differential_filter):\n",
    "    \n",
    "    # filter data\n",
    "    statcast_df_filtered = statcast_df_filter(data,\n",
    "                                              pitcher_name_filter,\n",
    "                                              pitch_name_filter,\n",
    "                                              stand_filter,\n",
    "                                              batter_name_filter, \n",
    "                                              count_filter,\n",
    "                                              count_advantage_filter,\n",
    "                                              outs_when_up_filter,\n",
    "                                              inning_filter,\n",
    "                                              runners_on_base_filter,\n",
    "                                              run_differential_filter)\n",
    "    \n",
    "    # plot a scatterplot of batted ball location\n",
    "    pyb.spraychart(statcast_df_filtered, 'dodgers', title = 'Batted Ball Spray Chart', size = 50)\n",
    "    \n",
    "\n",
    "'''\n",
    "Define a function to plot pitcher performance by times through order (tto) given dashboard filters\n",
    "'''\n",
    "def pitcher_tto_line(data,\n",
    "                     pitcher_name_filter,\n",
    "                     pitch_name_filter,\n",
    "                     stand_filter,\n",
    "                     batter_name_filter, \n",
    "                     count_filter,\n",
    "                     count_advantage_filter,\n",
    "                     outs_when_up_filter,\n",
    "                     inning_filter,\n",
    "                     runners_on_base_filter,\n",
    "                     run_differential_filter,\n",
    "                     breakdown_tto_var_filter):\n",
    "    \n",
    "    # filter data\n",
    "    statcast_df_filtered = statcast_df_filter(data,\n",
    "                                              pitcher_name_filter,\n",
    "                                              pitch_name_filter,\n",
    "                                              stand_filter,\n",
    "                                              batter_name_filter, \n",
    "                                              count_filter,\n",
    "                                              count_advantage_filter,\n",
    "                                              outs_when_up_filter,\n",
    "                                              inning_filter,\n",
    "                                              runners_on_base_filter,\n",
    "                                              run_differential_filter)\n",
    "    \n",
    "    # group the data frame by pitcher and times through order and calculate a number of stats from each group\n",
    "    tto_summary = statcast_df_filtered.groupby(\n",
    "        ['pitcher_name', 'tto']\n",
    "    ).agg(\n",
    "        {\n",
    "            'game_pk':'count',\n",
    "            'strike_ind': \"mean\",\n",
    "            'whiff_ind': \"mean\",\n",
    "            'woba_value':\"mean\",\n",
    "            'launch_speed':'mean',\n",
    "            'release_spin_rate':'mean'\n",
    "        }\n",
    "    ).reset_index()\n",
    "\n",
    "    # reformat output\n",
    "    tto_summary['Strike %'] = round(tto_summary['strike_ind']*100, 1)\n",
    "    tto_summary['Whiff %'] = round(tto_summary['whiff_ind']*100, 1)\n",
    "    tto_summary['wOBA'] = tto_summary['woba_value']\n",
    "    tto_summary['Exit Velocity'] = tto_summary['launch_speed']\n",
    "    tto_summary['Spin Rate'] = tto_summary['release_spin_rate']\n",
    "    \n",
    "    # plot the statistic summary by times through order\n",
    "    (ggplot(tto_summary) +\n",
    "      aes(x = 'tto', y = breakdown_tto_var_filter) +\n",
    "      geom_point(stat = 'identity') +\n",
    "      geom_line(stat = 'identity') +\n",
    "      geom_text(aes(label = breakdown_tto_var_filter), format_string = '{:.2f}', va = \"bottom\", ha = \"left\") +\n",
    "      labs(x = \"Times through order\", title = \"Statistics by Times Through Order\")  +\n",
    "      theme_minimal() +\n",
    "      scale_x_continuous(limits = [1, 4.2]) +\n",
    "      theme(legend_position = \"none\",\n",
    "            panel_grid_major = element_blank(),\n",
    "            panel_grid_minor = element_blank(),\n",
    "            axis_title_y = element_text(angle = 0, margin = dict([('r', 40)])),\n",
    "            axis_title_x = element_text(angle = 0, margin = dict([('t', 15)])),\n",
    "            figure_size = (8, 5))).draw();\n",
    "    \n",
    "\n",
    "'''\n",
    "Define a function to print table of pitcher statistics vs. MLB and\n",
    "plot radar chart with MLB pitcher percentiles given dashboard filters\n",
    "'''\n",
    "def pitcher_compare(data,\n",
    "                    pitcher_name_filter,\n",
    "                    pitch_name_filter,\n",
    "                    stand_filter,\n",
    "                    batter_name_filter, \n",
    "                    count_filter,\n",
    "                    count_advantage_filter,\n",
    "                    outs_when_up_filter,\n",
    "                    inning_filter,\n",
    "                    runners_on_base_filter,\n",
    "                    run_differential_filter):\n",
    "    \n",
    "    # filter data to all mlb pitchers\n",
    "    statcast_df_non_pitcher_filtered = statcast_df_non_pitcher_filter(data,\n",
    "                                                                      pitcher_name_filter,\n",
    "                                                                      pitch_name_filter,\n",
    "                                                                      stand_filter,\n",
    "                                                                      batter_name_filter, \n",
    "                                                                      count_filter,\n",
    "                                                                      count_advantage_filter,\n",
    "                                                                      outs_when_up_filter,\n",
    "                                                                      inning_filter,\n",
    "                                                                      runners_on_base_filter,\n",
    "                                                                      run_differential_filter)\n",
    "    \n",
    "    # group the data frame by pitcher and calculate a number of stats from each group\n",
    "    statcast_pitcher_summary = statcast_df_non_pitcher_filtered.groupby(\n",
    "        ['pitcher_name']\n",
    "    ).agg(\n",
    "        {\n",
    "            'strike_ind': \"mean\",\n",
    "            'whiff_ind': \"mean\",\n",
    "            'woba_value':\"mean\",\n",
    "            'launch_speed':'mean',\n",
    "            'release_spin_rate':'mean'\n",
    "        }\n",
    "    ).reset_index()\n",
    "    \n",
    "    # calculate pitcher percentile for all statistics\n",
    "    statcast_pitcher_summary['strike_ind_pct'] = statcast_pitcher_summary.strike_ind.rank(pct = True)*100\n",
    "    statcast_pitcher_summary['whiff_ind_pct'] = statcast_pitcher_summary.whiff_ind.rank(pct = True)*100\n",
    "    statcast_pitcher_summary['woba_value_pct'] = (1 - statcast_pitcher_summary.woba_value.rank(pct = True))*100\n",
    "    statcast_pitcher_summary['launch_speed_pct'] = (1 - statcast_pitcher_summary.launch_speed.rank(pct = True))*100\n",
    "    statcast_pitcher_summary['release_spin_rate_pct'] = statcast_pitcher_summary.release_spin_rate.rank(pct = True)*100\n",
    "    \n",
    "    # filter to pitcher of interest\n",
    "    statcast_pitcher_summary_filtered = statcast_pitcher_summary[statcast_pitcher_summary['pitcher_name'] == pitcher_name_filter]\n",
    "    \n",
    "    # group all other pitchers outside of pitcher of interest to same group\n",
    "    statcast_df_non_pitcher_filtered['pitcher_ind'] = np.where(statcast_df_non_pitcher_filtered['pitcher_name'] == pitcher_name_filter, pitcher_name_filter, 'Rest of MLB')\n",
    "\n",
    "    # group the data frame by pitcher category and extract a number of stats from each group\n",
    "    compare_df = statcast_df_non_pitcher_filtered.groupby(\n",
    "        ['pitcher_ind']\n",
    "    ).agg(\n",
    "        {\n",
    "            'strike_ind': \"mean\",\n",
    "            'whiff_ind': \"mean\",\n",
    "            'woba_value':\"mean\",\n",
    "            'launch_speed':'mean',\n",
    "            'release_spin_rate':'mean'\n",
    "        }\n",
    "    ).reset_index()\n",
    "    \n",
    "    # reformat output\n",
    "    compare_df['strike_ind'] = round(compare_df['strike_ind']*100, 1).astype(str)\n",
    "    compare_df['whiff_ind'] = round(compare_df['whiff_ind']*100, 1).astype(str)\n",
    "    compare_df['woba_value'] = round(compare_df['woba_value'], 3).astype(str)\n",
    "    compare_df['launch_speed'] = round(compare_df['launch_speed'], 1).astype(str)\n",
    "    compare_df['release_spin_rate'] = round(compare_df['release_spin_rate'], 1).astype(str)\n",
    "    \n",
    "    # set the column names of the clean table output\n",
    "    compare_df.columns = [\" \", 'Strike %', 'Whiff %', 'wOBA', 'Avg. Exit Velocity', 'Avg. Spin Rate']\n",
    "    \n",
    "    # display statistics table\n",
    "    display(compare_df)\n",
    "    \n",
    "    # set variables to select from summary data\n",
    "    categories=['strike_ind_pct', 'whiff_ind_pct', 'woba_value_pct', 'launch_speed_pct', 'release_spin_rate_pct']\n",
    "    \n",
    "    # set clean names of variables for labelling\n",
    "    categories_clean=['Strike %', 'Whiff %', 'wOBA', 'Avg. Exit Velocity', 'Avg. Spin Rate']\n",
    "    \n",
    "    # get number of categories\n",
    "    N = len(categories)\n",
    "\n",
    "    # plot the values - need to set the last value to the first value to close loop\n",
    "    values = np.array(statcast_pitcher_summary_filtered[categories])[0].tolist()\n",
    "    values += values[:1]\n",
    "\n",
    "    # set angles for each statistic in radar chart\n",
    "    angles = [n / float(N) * 2 * pi for n in range(N)]\n",
    "    angles += angles[:1]\n",
    "    \n",
    "    # initialise the radar plot size\n",
    "    plt.figure(figsize = (8, 8), facecolor='white')\n",
    "    \n",
    "    # initialise the sub plot\n",
    "    ax = plt.subplot(111, polar = True)\n",
    "\n",
    "    # set x ticks\n",
    "    plt.xticks(angles[:-1], categories_clean, color = 'grey', size = 15)\n",
    "\n",
    "    # set y labels\n",
    "    ax.set_rlabel_position(30)\n",
    "    plt.yticks([20, 40, 60, 80, 100], [\"20\", \"40\", \"60\", \"80\", \"100\"], color = \"grey\", size = 15)\n",
    "    plt.ylim(0,100)\n",
    "\n",
    "    # plot data\n",
    "    ax.plot(angles, values, linewidth = 1, linestyle = 'solid')\n",
    "\n",
    "    # fill area\n",
    "    ax.fill(angles, values, 'b', alpha = 0.2)\n",
    "    \n",
    "    # set plot title\n",
    "    ax.set_title(\"Pitcher Performance MLB Percentiles\", size = 15)\n",
    "    \n",
    "    # set spin to invisible\n",
    "    ax.spines['polar'].set_visible(False)\n",
    "    \n",
    "    # print space\n",
    "    print(\"\")\n",
    "    \n",
    "    # show plot\n",
    "    plt.show()"
   ]
  },
  {
   "cell_type": "code",
   "execution_count": 27,
   "metadata": {},
   "outputs": [],
   "source": [
    "##### Load Data -----\n",
    "\n",
    "# set the input data set names we will load in\n",
    "ds_name = \"pitch_data\"\n",
    "\n",
    "# load in each dataset\n",
    "statcast_df = load_data(os.path.join(DATA_DIR, f'{ds_name}.csv'), ds_name)"
   ]
  },
  {
   "cell_type": "markdown",
   "metadata": {
    "extensions": {
     "jupyter_dashboards": {
      "version": 1,
      "views": {
       "default_view": {
        "col": 0,
        "height": 6,
        "row": 0,
        "width": 2
       }
      }
     }
    },
    "id": "nXUVJQWJWcxj"
   },
   "source": [
    "## Pitcher Filters"
   ]
  },
  {
   "cell_type": "markdown",
   "metadata": {},
   "source": [
    "Search for the pitcher you are attempting to analyze the next baseball game. This interactive dashboard allows you to view the pitcher's tendencies including:\n",
    "\n",
    "* What pitch types the pitcher throws\n",
    "* What pitch types the pitcher throws based on the count\n",
    "* Where the pitcher throws their pitches\n",
    "* How much movement is typical for their pitches\n",
    "* Where they release their pitches\n",
    "* Historical batter results and location of batted balls\n",
    "* The pitchers performance by times through the batting order\n",
    "* The pitchers performance relative to other pitcher's in the MLB\n",
    "\n",
    "You can also filter by the pitch type to see the same pitcher tendencies for a particular pitch type."
   ]
  },
  {
   "cell_type": "code",
   "execution_count": 28,
   "metadata": {
    "extensions": {
     "jupyter_dashboards": {
      "version": 1,
      "views": {
       "default_view": {
        "hidden": true
       }
      }
     }
    }
   },
   "outputs": [
    {
     "data": {
      "application/vnd.jupyter.widget-view+json": {
       "model_id": "28c846cd4c51475b84f5322ee42f7c04",
       "version_major": 2,
       "version_minor": 0
      },
      "text/plain": [
       "Tab(children=(Combobox(value='Max Scherzer', description='Pitcher:', ensure_option=True, options=('Robert Gsel…"
      ]
     },
     "metadata": {},
     "output_type": "display_data"
    }
   ],
   "source": [
    "# pitcher name\n",
    "pitcher_name_case = widgets.Combobox(\n",
    "    value='Max Scherzer',\n",
    "    options=list(statcast_df['pitcher_name'].unique()),\n",
    "    description='Pitcher:',\n",
    "    ensure_option=True,\n",
    "    disabled=False\n",
    ")\n",
    "\n",
    "# pitch type\n",
    "pitch_name_case = widgets.SelectMultiple(\n",
    "    options=sorted(list(statcast_df['pitch_name'].dropna().unique())),\n",
    "    value=sorted(list(statcast_df['pitch_name'].dropna().unique())),\n",
    "    description='Pitch Type',\n",
    "    disabled=False\n",
    ")\n",
    "\n",
    "# set the tabbed pitcher filters\n",
    "tab_contents = ['Pitcher',\n",
    "                'Pitch Type']\n",
    "\n",
    "children = [pitcher_name_case,\n",
    "            pitch_name_case]\n",
    "\n",
    "tab_pitcher = widgets.Tab()\n",
    "tab_pitcher.children = children\n",
    "for i in range(len(tab_contents)):\n",
    "    tab_pitcher.set_title(i, str(tab_contents[i]))\n",
    "    \n",
    "tab_pitcher"
   ]
  },
  {
   "cell_type": "markdown",
   "metadata": {
    "extensions": {
     "jupyter_dashboards": {
      "version": 1,
      "views": {
       "default_view": {
        "col": 0,
        "height": 6,
        "row": 6,
        "width": 2
       }
      }
     }
    }
   },
   "source": [
    "## Batter Filters"
   ]
  },
  {
   "cell_type": "markdown",
   "metadata": {},
   "source": [
    "Most starting pitcher tendencies vary based on the stance of the batter. You can filter to your hitting stance to see historical pitcher tendencies for right-handed or left-handed batters. \n",
    "\n",
    "If you are wanting to see historical data only for a particular hitter's at-bats against a pitcher, you can filter to a specific MLB hitter."
   ]
  },
  {
   "cell_type": "code",
   "execution_count": 29,
   "metadata": {
    "extensions": {
     "jupyter_dashboards": {
      "version": 1,
      "views": {
       "default_view": {
        "hidden": true
       }
      }
     }
    }
   },
   "outputs": [
    {
     "data": {
      "application/vnd.jupyter.widget-view+json": {
       "model_id": "8d26ac2791c04becb604711b7642f730",
       "version_major": 2,
       "version_minor": 0
      },
      "text/plain": [
       "Tab(children=(SelectMultiple(description='Batter Stance', index=(0, 1), options=('L', 'R'), value=('L', 'R')),…"
      ]
     },
     "metadata": {},
     "output_type": "display_data"
    }
   ],
   "source": [
    "# stand (batter stance)\n",
    "stand_case = widgets.SelectMultiple(\n",
    "    options=sorted(list(statcast_df['stand'].dropna().unique())),\n",
    "    value=sorted(list(statcast_df['stand'].dropna().unique())),\n",
    "    description='Batter Stance',\n",
    "    disabled=False\n",
    ")\n",
    "\n",
    "# batter name\n",
    "batter_name_case = widgets.Combobox(\n",
    "    value='All',\n",
    "    options=list(statcast_df['batter_name'].unique()),\n",
    "    description='Batter:',\n",
    "    ensure_option=True,\n",
    "    disabled=False\n",
    ")\n",
    "\n",
    "# set the tabbed batter filters\n",
    "tab_contents = ['Batter Stance',\n",
    "                'Batter']\n",
    "\n",
    "children = [stand_case,\n",
    "            batter_name_case]\n",
    "\n",
    "tab_batter = widgets.Tab()\n",
    "tab_batter.children = children\n",
    "for i in range(len(tab_contents)):\n",
    "    tab_batter.set_title(i, str(tab_contents[i]))\n",
    "    \n",
    "tab_batter"
   ]
  },
  {
   "cell_type": "markdown",
   "metadata": {
    "extensions": {
     "jupyter_dashboards": {
      "version": 1,
      "views": {
       "default_view": {
        "col": 0,
        "height": 6,
        "row": 12,
        "width": 2
       }
      }
     }
    }
   },
   "source": [
    "## Game Situation Filters"
   ]
  },
  {
   "cell_type": "markdown",
   "metadata": {},
   "source": [
    "Pitcher tendencies are heavily influenced by the scenario of the game. For example, at-bats with runners on base may differ greatly from at-bats with no runners on base in terms of pitch selection, location, and results.\n",
    "\n",
    "Use the filters below to see how pitcher tendencies vary by:\n",
    "\n",
    "* Count\n",
    "* Outs\n",
    "* Inning\n",
    "* Runners on base\n",
    "* Score (run differential: pitching team - batting team)"
   ]
  },
  {
   "cell_type": "code",
   "execution_count": 30,
   "metadata": {
    "extensions": {
     "jupyter_dashboards": {
      "version": 1,
      "views": {
       "default_view": {
        "hidden": true
       }
      }
     }
    },
    "scrolled": true
   },
   "outputs": [
    {
     "data": {
      "application/vnd.jupyter.widget-view+json": {
       "model_id": "8965ffb90f6c43d1abec7ef9a98ed641",
       "version_major": 2,
       "version_minor": 0
      },
      "text/plain": [
       "Tab(children=(SelectMultiple(description='Pitch Count', index=(0, 1, 2, 3, 4, 5, 6, 7, 8, 9, 10, 11), options=…"
      ]
     },
     "metadata": {},
     "output_type": "display_data"
    }
   ],
   "source": [
    "# count\n",
    "count_case = widgets.SelectMultiple(\n",
    "    options=sorted(list(statcast_df['count'].dropna().unique())),\n",
    "    value=sorted(list(statcast_df['count'].dropna().unique())),\n",
    "    description='Pitch Count',\n",
    "    disabled=False\n",
    ")\n",
    "\n",
    "# count_advantage\n",
    "count_advantage_case = widgets.SelectMultiple(\n",
    "    options=sorted(list(statcast_df['count_advantage'].dropna().unique())),\n",
    "    value=sorted(list(statcast_df['count_advantage'].dropna().unique())),\n",
    "    description='Pitch Count Description',\n",
    "    disabled=False\n",
    ")\n",
    "\n",
    "# innings\n",
    "inning_case = widgets.SelectMultiple(\n",
    "    options=sorted(list(statcast_df['inning'].dropna().unique())),\n",
    "    value=sorted(list(statcast_df['inning'].dropna().unique())),\n",
    "    description='Inning',\n",
    "    disabled=False\n",
    ")\n",
    "\n",
    "# outs\n",
    "outs_when_up_case = widgets.SelectMultiple(\n",
    "    options=sorted(list(statcast_df['outs_when_up'].dropna().unique())),\n",
    "    value=sorted(list(statcast_df['outs_when_up'].dropna().unique())),\n",
    "    description='Outs',\n",
    "    disabled=False\n",
    ")\n",
    "\n",
    "# runners on base\n",
    "allowed_tags = ['Empty',\n",
    "                '1B', \n",
    "                '2B', \n",
    "                '3B',\n",
    "                '1B & 2B',\n",
    "                '1B & 3B',\n",
    "                '2B & 3B',\n",
    "                'Bases Loaded']\n",
    "\n",
    "runners_on_base_case = widgets.SelectMultiple(\n",
    "    options=allowed_tags,\n",
    "    value=allowed_tags,\n",
    "    description='Runners On Base',\n",
    "    disabled=False\n",
    ")\n",
    "\n",
    "# run differential\n",
    "options = [i for i in range(-20, 21)]\n",
    "run_differential_case = widgets.SelectionRangeSlider(\n",
    "    options=options,\n",
    "    index=(0, 40),\n",
    "    description='Run Differential',\n",
    "    disabled=False\n",
    ")\n",
    "\n",
    "# set the tabbed situation filters\n",
    "tab_contents = ['Pitch Count',\n",
    "                'Pitch Count Advantage',\n",
    "                'Outs',\n",
    "                'Inning',\n",
    "                'Runners On Base',\n",
    "                'Run Differential']\n",
    "\n",
    "children = [count_case,\n",
    "            count_advantage_case,\n",
    "            outs_when_up_case,\n",
    "            inning_case,\n",
    "            runners_on_base_case,\n",
    "            run_differential_case]\n",
    "\n",
    "tab_situation = widgets.Tab()\n",
    "tab_situation.children = children\n",
    "for i in range(len(tab_contents)):\n",
    "    tab_situation.set_title(i, str(tab_contents[i]))\n",
    "    \n",
    "tab_situation"
   ]
  },
  {
   "cell_type": "markdown",
   "metadata": {
    "extensions": {
     "jupyter_dashboards": {
      "version": 1,
      "views": {
       "default_view": {
        "col": 0,
        "height": 2,
        "row": 32,
        "width": 12
       }
      }
     }
    }
   },
   "source": [
    "## Number of Pitches:"
   ]
  },
  {
   "cell_type": "code",
   "execution_count": 31,
   "metadata": {
    "extensions": {
     "jupyter_dashboards": {
      "version": 1,
      "views": {
       "default_view": {
        "col": 0,
        "height": 2,
        "row": 36,
        "width": 12
       }
      }
     }
    }
   },
   "outputs": [
    {
     "data": {
      "application/vnd.jupyter.widget-view+json": {
       "model_id": "3271d2e75e69484182f0001ba3417420",
       "version_major": 2,
       "version_minor": 0
      },
      "text/plain": [
       "Output()"
      ]
     },
     "metadata": {},
     "output_type": "display_data"
    }
   ],
   "source": [
    "widgets.interactive_output(number_of_pitches, {'data': widgets.fixed(statcast_df),\n",
    "                                               'pitcher_name_filter':pitcher_name_case,\n",
    "                                               'pitch_name_filter':pitch_name_case,\n",
    "                                               'stand_filter':stand_case,\n",
    "                                               'batter_name_filter':batter_name_case,\n",
    "                                               'count_filter':count_case,\n",
    "                                               'count_advantage_filter':count_advantage_case,\n",
    "                                               'outs_when_up_filter':outs_when_up_case,\n",
    "                                               'inning_filter':inning_case,\n",
    "                                               'runners_on_base_filter':runners_on_base_case,\n",
    "                                               'run_differential_filter':run_differential_case})"
   ]
  },
  {
   "cell_type": "markdown",
   "metadata": {},
   "source": [
    "## Pitcher Tendencies"
   ]
  },
  {
   "cell_type": "markdown",
   "metadata": {
    "extensions": {
     "jupyter_dashboards": {
      "version": 1,
      "views": {
       "default_view": {
        "col": 0,
        "height": 2,
        "row": 38,
        "width": 12
       }
      }
     }
    },
    "id": "MUIHKpiaVrfV"
   },
   "source": [
    "### Pitch Selection"
   ]
  },
  {
   "cell_type": "markdown",
   "metadata": {},
   "source": [
    "Most pitchers mix their pitches substantially during at-bats. Below is the distribution of pitches thrown of a particular pitch type. \n",
    "\n",
    "Use the filters above to observe how this visual changes based on the game scenario."
   ]
  },
  {
   "cell_type": "code",
   "execution_count": 32,
   "metadata": {
    "extensions": {
     "jupyter_dashboards": {
      "version": 1,
      "views": {
       "default_view": {
        "col": 0,
        "height": 2,
        "row": 42,
        "width": 12
       }
      }
     }
    }
   },
   "outputs": [
    {
     "data": {
      "application/vnd.jupyter.widget-view+json": {
       "model_id": "f7ca5f9d15a44b9ba7fb57127cdb5ad0",
       "version_major": 2,
       "version_minor": 0
      },
      "text/plain": [
       "Output()"
      ]
     },
     "metadata": {},
     "output_type": "display_data"
    }
   ],
   "source": [
    "widgets.interactive_output(pitch_selection_bar, {'data': widgets.fixed(statcast_df),\n",
    "                                                 'pitcher_name_filter':pitcher_name_case,\n",
    "                                                 'pitch_name_filter':pitch_name_case,\n",
    "                                                 'stand_filter':stand_case,\n",
    "                                                 'batter_name_filter':batter_name_case,\n",
    "                                                 'count_filter':count_case,\n",
    "                                                 'count_advantage_filter':count_advantage_case,\n",
    "                                                 'outs_when_up_filter':outs_when_up_case,\n",
    "                                                 'inning_filter':inning_case,\n",
    "                                                 'runners_on_base_filter':runners_on_base_case,\n",
    "                                                 'run_differential_filter':run_differential_case})"
   ]
  },
  {
   "cell_type": "markdown",
   "metadata": {},
   "source": [
    "### Pitch Count Flow"
   ]
  },
  {
   "cell_type": "markdown",
   "metadata": {},
   "source": [
    "Pitchers often perform better when they are in a pitch count advantage. One way to assess a pitcher's count advantage is to visualize the frequencies pitchers arrive at specific pitch counts. A sankey diagram illustrates the flow of the number of pitches in each pitch count. \n",
    "\n",
    "Use the filters to compare results based on pitch type and other scenarios."
   ]
  },
  {
   "cell_type": "code",
   "execution_count": 55,
   "metadata": {},
   "outputs": [
    {
     "data": {
      "application/vnd.jupyter.widget-view+json": {
       "model_id": "d9c27f16bd374b1ea91719a0b63a275e",
       "version_major": 2,
       "version_minor": 0
      },
      "text/plain": [
       "Output()"
      ]
     },
     "metadata": {},
     "output_type": "display_data"
    }
   ],
   "source": [
    "widgets.interactive_output(pitch_count_sankey, {'data': widgets.fixed(statcast_df),\n",
    "                                                'pitcher_name_filter':pitcher_name_case,\n",
    "                                                'pitch_name_filter':pitch_name_case,\n",
    "                                                'stand_filter':stand_case,\n",
    "                                                'batter_name_filter':batter_name_case,\n",
    "                                                'count_filter':count_case,\n",
    "                                                'count_advantage_filter':count_advantage_case,\n",
    "                                                'outs_when_up_filter':outs_when_up_case,\n",
    "                                                'inning_filter':inning_case,\n",
    "                                                'runners_on_base_filter':runners_on_base_case,\n",
    "                                                'run_differential_filter':run_differential_case})"
   ]
  },
  {
   "cell_type": "markdown",
   "metadata": {},
   "source": [
    "### Pitch Selection by Count"
   ]
  },
  {
   "cell_type": "markdown",
   "metadata": {},
   "source": [
    "The pitch count heavily influences which pitch types a pitcher will throw in an at-bat. This is typically the most predictive input to determining which pitch will be thrown next in an at-bat."
   ]
  },
  {
   "cell_type": "code",
   "execution_count": 35,
   "metadata": {
    "extensions": {
     "jupyter_dashboards": {
      "version": 1,
      "views": {
       "default_view": {
        "col": 0,
        "height": 15,
        "row": 46,
        "width": 6
       }
      }
     }
    }
   },
   "outputs": [
    {
     "data": {
      "application/vnd.jupyter.widget-view+json": {
       "model_id": "bfc443976d8345b2b27c24aa6f331356",
       "version_major": 2,
       "version_minor": 0
      },
      "text/plain": [
       "Output()"
      ]
     },
     "metadata": {},
     "output_type": "display_data"
    }
   ],
   "source": [
    "widgets.interactive_output(pitch_count_stacked_bar, {'data': widgets.fixed(statcast_df),\n",
    "                                                     'pitcher_name_filter':pitcher_name_case,\n",
    "                                                     'pitch_name_filter':pitch_name_case,\n",
    "                                                     'stand_filter':stand_case,\n",
    "                                                     'batter_name_filter':batter_name_case,\n",
    "                                                     'count_filter':count_case,\n",
    "                                                     'count_advantage_filter':count_advantage_case,\n",
    "                                                     'outs_when_up_filter':outs_when_up_case,\n",
    "                                                     'inning_filter':inning_case,\n",
    "                                                     'runners_on_base_filter':runners_on_base_case,\n",
    "                                                     'run_differential_filter':run_differential_case})"
   ]
  },
  {
   "cell_type": "markdown",
   "metadata": {},
   "source": [
    "It is easier to summarise the pitch selection based on groupings of the count situation. Most pitchers tendencies are similar based on their advantage in the count against a hitter. \n",
    "\n",
    "3 strikes and the hitter is 'out'. 4 balls and the hitter 'walks' and reached 1st base.\n",
    "\n",
    "A pitcher either has a count advantage (ahead), a disadvantage (behind), or neither an advantage or disadvantage (even). Often pitchers choose to throw their \"strikeout\" or best pitch with 2 strikes. Naturally we split the ahead advantage into two categories: ahead w/ less than 2 strikes and ahead with 2 strikes.\n",
    "\n",
    "* Even counts: 1-0, 2-1, 3-2\n",
    "* Behind counts: 2-0, 3-0, 3-1\n",
    "* Ahead (<2 strikes) counts: 0-0, 0-1, 1-1\n",
    "* Ahead (2 strikes) counts: 0-2, 1-2, 2-2"
   ]
  },
  {
   "cell_type": "code",
   "execution_count": 36,
   "metadata": {
    "extensions": {
     "jupyter_dashboards": {
      "version": 1,
      "views": {
       "default_view": {
        "col": 0,
        "height": 2,
        "row": 75,
        "width": 12
       }
      }
     }
    }
   },
   "outputs": [
    {
     "data": {
      "application/vnd.jupyter.widget-view+json": {
       "model_id": "4661ba336013465ebae537eb4fdf8d3a",
       "version_major": 2,
       "version_minor": 0
      },
      "text/plain": [
       "Output()"
      ]
     },
     "metadata": {},
     "output_type": "display_data"
    }
   ],
   "source": [
    "widgets.interactive_output(pitch_count_advantage_stacked_bar, {'data': widgets.fixed(statcast_df),\n",
    "                                                               'pitcher_name_filter':pitcher_name_case,\n",
    "                                                               'pitch_name_filter':pitch_name_case,\n",
    "                                                               'stand_filter':stand_case,\n",
    "                                                               'batter_name_filter':batter_name_case,\n",
    "                                                               'count_filter':count_case,\n",
    "                                                               'count_advantage_filter':count_advantage_case,\n",
    "                                                               'outs_when_up_filter':outs_when_up_case,\n",
    "                                                               'inning_filter':inning_case,\n",
    "                                                               'runners_on_base_filter':runners_on_base_case,\n",
    "                                                               'run_differential_filter':run_differential_case})"
   ]
  },
  {
   "cell_type": "markdown",
   "metadata": {
    "extensions": {
     "jupyter_dashboards": {
      "version": 1,
      "views": {
       "default_view": {
        "col": 0,
        "height": 2,
        "row": 77,
        "width": 12
       }
      }
     }
    },
    "id": "ImbOJrxSYjoa"
   },
   "source": [
    "### Pitch Location"
   ]
  },
  {
   "cell_type": "markdown",
   "metadata": {},
   "source": [
    "Knowing where a pitch is likely to be thrown is highly important to increasing the hitter's chances of reaching base.\n",
    "\n",
    "Pitch location is heavily influenced by the pitch type thrown, the batter's stance, the pitch count, and other in-game scenarios. \n",
    "\n",
    "Use the breakdown filter below to plot side-by-side heatmaps of the pitch locations by an option.\n",
    "\n",
    "Notes:\n",
    "* The strike zone is highlighted by the box in the middle of each heatmap.\n",
    "* Heatmaps show the density of pitch location and is easier to interpret. The more yellow the chart, the higher the relative amount of pitches thrown in that location of the strike zone. The more purple, the lower the amount of pitches thrown in that area.\n",
    "* Limited pitch counts for specific breakdowns create problems with heatmaps. Thus, any breakdown with less than 50 pitches, is shown as a simple scatterplot with the historical pitch locations."
   ]
  },
  {
   "cell_type": "code",
   "execution_count": 37,
   "metadata": {
    "extensions": {
     "jupyter_dashboards": {
      "version": 1,
      "views": {
       "default_view": {
        "hidden": true
       }
      }
     }
    }
   },
   "outputs": [],
   "source": [
    "# pitch location breakdown options\n",
    "options = ['none',\n",
    "           'pitch_name',\n",
    "           'stand',\n",
    "           'count_advantage',\n",
    "           'outs_when_up',\n",
    "           'runners_on_base',\n",
    "           'run_differential']\n",
    "\n",
    "# breakdown_var\n",
    "breakdown_var_case = widgets.Dropdown(\n",
    "    options=options,\n",
    "    value='none',\n",
    "    description='Pitch Location Breakdown',\n",
    "    disabled=False\n",
    ")"
   ]
  },
  {
   "cell_type": "code",
   "execution_count": 38,
   "metadata": {
    "extensions": {
     "jupyter_dashboards": {
      "version": 1,
      "views": {
       "default_view": {
        "col": 0,
        "height": 2,
        "row": 79,
        "width": 12
       }
      }
     }
    },
    "scrolled": true
   },
   "outputs": [
    {
     "data": {
      "application/vnd.jupyter.widget-view+json": {
       "model_id": "0a9297ab5b78431499c9a594ff748828",
       "version_major": 2,
       "version_minor": 0
      },
      "text/plain": [
       "Dropdown(description='Pitch Location Breakdown', options=('none', 'pitch_name', 'stand', 'count_advantage', 'o…"
      ]
     },
     "metadata": {},
     "output_type": "display_data"
    }
   ],
   "source": [
    "breakdown_var_case"
   ]
  },
  {
   "cell_type": "code",
   "execution_count": 39,
   "metadata": {
    "extensions": {
     "jupyter_dashboards": {
      "version": 1,
      "views": {
       "default_view": {
        "col": 0,
        "height": 2,
        "row": 81,
        "width": 12
       }
      }
     }
    },
    "scrolled": false
   },
   "outputs": [
    {
     "data": {
      "application/vnd.jupyter.widget-view+json": {
       "model_id": "f372e0f655d24c00a9bdc4c362f54eb3",
       "version_major": 2,
       "version_minor": 0
      },
      "text/plain": [
       "Output()"
      ]
     },
     "metadata": {},
     "output_type": "display_data"
    }
   ],
   "source": [
    "widgets.interactive_output(plot_pitch_location, {'data': widgets.fixed(statcast_df),\n",
    "                                                 'pitcher_name_filter':pitcher_name_case,\n",
    "                                                 'pitch_name_filter':pitch_name_case,\n",
    "                                                 'stand_filter':stand_case,\n",
    "                                                 'batter_name_filter':batter_name_case,\n",
    "                                                 'count_filter':count_case,\n",
    "                                                 'count_advantage_filter':count_advantage_case,\n",
    "                                                 'outs_when_up_filter':outs_when_up_case,\n",
    "                                                 'inning_filter':inning_case,\n",
    "                                                 'runners_on_base_filter':runners_on_base_case,\n",
    "                                                 'run_differential_filter':run_differential_case,\n",
    "                                                 'breakdown_var_filter':breakdown_var_case})"
   ]
  },
  {
   "cell_type": "markdown",
   "metadata": {
    "extensions": {
     "jupyter_dashboards": {
      "version": 1,
      "views": {
       "default_view": {
        "col": 0,
        "height": 2,
        "row": 83,
        "width": 12
       }
      }
     }
    },
    "id": "wph1qBBGQIz5"
   },
   "source": [
    "### Pitch Movement"
   ]
  },
  {
   "cell_type": "markdown",
   "metadata": {},
   "source": [
    "Differing pitches vary in spin rate and movement. Movement of pitches varies greatly by the pitch thrown. Pitcher's with more movement variation in their pitches tend to perform quite well compared to pitches whose pitches move similarly by pitch type.\n",
    "\n",
    "Notes: \n",
    "* Pitch movement is calculated from the pitcher's perspective. There is no gravity taken into account when calculating vertical and horizontal movement. Thus where vertical movement is positive, this represents the pitch movement via the pitcher's point-of-view.\n",
    "* Horizontal movement is shown relative to the pitcher's perspective. Thus a positive movement coincides with movement away from a right-handed batter and into a left-handed batter."
   ]
  },
  {
   "cell_type": "code",
   "execution_count": 40,
   "metadata": {
    "extensions": {
     "jupyter_dashboards": {
      "version": 1,
      "views": {
       "default_view": {
        "col": 0,
        "height": 2,
        "row": 85,
        "width": 12
       }
      }
     }
    }
   },
   "outputs": [
    {
     "data": {
      "application/vnd.jupyter.widget-view+json": {
       "model_id": "e1e51b2430c64e26b83a7fcfd1fca7d8",
       "version_major": 2,
       "version_minor": 0
      },
      "text/plain": [
       "Output()"
      ]
     },
     "metadata": {},
     "output_type": "display_data"
    }
   ],
   "source": [
    "widgets.interactive_output(pitch_movement_scatter, {'data': widgets.fixed(statcast_df),\n",
    "                                                    'pitcher_name_filter':pitcher_name_case,\n",
    "                                                    'pitch_name_filter':pitch_name_case,\n",
    "                                                    'stand_filter':stand_case,\n",
    "                                                    'batter_name_filter':batter_name_case,\n",
    "                                                    'count_filter':count_case,\n",
    "                                                    'count_advantage_filter':count_advantage_case,\n",
    "                                                    'outs_when_up_filter':outs_when_up_case,\n",
    "                                                    'inning_filter':inning_case,\n",
    "                                                    'runners_on_base_filter':runners_on_base_case,\n",
    "                                                    'run_differential_filter':run_differential_case})"
   ]
  },
  {
   "cell_type": "markdown",
   "metadata": {
    "extensions": {
     "jupyter_dashboards": {
      "version": 1,
      "views": {
       "default_view": {
        "col": 0,
        "height": 2,
        "row": 87,
        "width": 12
       }
      }
     }
    },
    "id": "2sG-szkkU13h"
   },
   "source": [
    "### Pitch Release Point"
   ]
  },
  {
   "cell_type": "markdown",
   "metadata": {},
   "source": [
    "Where a pitcher releases pitches also sometimes varies greatly by the pitch type thrown.\n",
    "\n",
    "Pitcher's releasing different pitch types in the same relative arm height and angle tend to perform quite well compared to pitches whose arm height and angle differ greatly by pitch type. Most major league hitter's perform well enough to identify pitch type based on the pitcher's arm angle if there are differences in release points.\n",
    "\n",
    "The purpose of the visual below is to show if there is significant overlap in release point location by pitch type for a given pitcher."
   ]
  },
  {
   "cell_type": "code",
   "execution_count": 41,
   "metadata": {
    "extensions": {
     "jupyter_dashboards": {
      "version": 1,
      "views": {
       "default_view": {
        "col": 0,
        "height": 2,
        "row": 89,
        "width": 12
       }
      }
     }
    }
   },
   "outputs": [
    {
     "data": {
      "application/vnd.jupyter.widget-view+json": {
       "model_id": "a98134845cea47a7b740761542bd56f4",
       "version_major": 2,
       "version_minor": 0
      },
      "text/plain": [
       "Output()"
      ]
     },
     "metadata": {},
     "output_type": "display_data"
    }
   ],
   "source": [
    "widgets.interactive_output(pitch_release_scatter, {'data': widgets.fixed(statcast_df),\n",
    "                                                   'pitcher_name_filter':pitcher_name_case,\n",
    "                                                   'pitch_name_filter':pitch_name_case,\n",
    "                                                   'stand_filter':stand_case,\n",
    "                                                   'batter_name_filter':batter_name_case,\n",
    "                                                   'count_filter':count_case,\n",
    "                                                   'count_advantage_filter':count_advantage_case,\n",
    "                                                   'outs_when_up_filter':outs_when_up_case,\n",
    "                                                   'inning_filter':inning_case,\n",
    "                                                   'runners_on_base_filter':runners_on_base_case,\n",
    "                                                   'run_differential_filter':run_differential_case})"
   ]
  },
  {
   "cell_type": "markdown",
   "metadata": {},
   "source": [
    "## Pitcher Performance"
   ]
  },
  {
   "cell_type": "markdown",
   "metadata": {
    "extensions": {
     "jupyter_dashboards": {
      "version": 1,
      "views": {
       "default_view": {
        "col": 0,
        "height": 2,
        "row": 91,
        "width": 12
       }
      }
     }
    },
    "id": "3Z0TV5fosxi9"
   },
   "source": [
    "### At-bat Results Type"
   ]
  },
  {
   "cell_type": "markdown",
   "metadata": {},
   "source": [
    "One way to evaluate a pitcher's ability is to analyze the results of their at-bats. Often pitcher's are evaluated by their strikeout and walk rates. This section provides such information in addition to home-run rate and other possible at-bat results."
   ]
  },
  {
   "cell_type": "code",
   "execution_count": 42,
   "metadata": {
    "extensions": {
     "jupyter_dashboards": {
      "version": 1,
      "views": {
       "default_view": {
        "col": 0,
        "height": 2,
        "row": 93,
        "width": 12
       }
      }
     }
    }
   },
   "outputs": [
    {
     "data": {
      "application/vnd.jupyter.widget-view+json": {
       "model_id": "7b4457f672aa4a9daa4aa7d78f71b3de",
       "version_major": 2,
       "version_minor": 0
      },
      "text/plain": [
       "Output()"
      ]
     },
     "metadata": {},
     "output_type": "display_data"
    }
   ],
   "source": [
    "widgets.interactive_output(pitch_result_bar, {'data': widgets.fixed(statcast_df),\n",
    "                                              'pitcher_name_filter':pitcher_name_case,\n",
    "                                              'pitch_name_filter':pitch_name_case,\n",
    "                                              'stand_filter':stand_case,\n",
    "                                              'batter_name_filter':batter_name_case,\n",
    "                                              'count_filter':count_case,\n",
    "                                              'count_advantage_filter':count_advantage_case,\n",
    "                                              'outs_when_up_filter':outs_when_up_case,\n",
    "                                              'inning_filter':inning_case,\n",
    "                                              'runners_on_base_filter':runners_on_base_case,\n",
    "                                              'run_differential_filter':run_differential_case})"
   ]
  },
  {
   "cell_type": "markdown",
   "metadata": {
    "extensions": {
     "jupyter_dashboards": {
      "version": 1,
      "views": {
       "default_view": {
        "col": 0,
        "height": 2,
        "row": 95,
        "width": 12
       }
      }
     }
    },
    "id": "B4yZLC9F4ozH"
   },
   "source": [
    "### Batted Ball Type"
   ]
  },
  {
   "cell_type": "markdown",
   "metadata": {},
   "source": [
    "A more advanced performance measure is determined based on hitter contact type for his respective batted balls. There are several types of contact defined by the MLB.\n",
    "\n",
    "Typically high performing pitchers incur lower barrel and solid contact rates."
   ]
  },
  {
   "cell_type": "code",
   "execution_count": 43,
   "metadata": {
    "extensions": {
     "jupyter_dashboards": {
      "version": 1,
      "views": {
       "default_view": {
        "col": 0,
        "height": 2,
        "row": 97,
        "width": 12
       }
      }
     }
    }
   },
   "outputs": [
    {
     "data": {
      "application/vnd.jupyter.widget-view+json": {
       "model_id": "a1452989e30b444c92723996f24da536",
       "version_major": 2,
       "version_minor": 0
      },
      "text/plain": [
       "Output()"
      ]
     },
     "metadata": {},
     "output_type": "display_data"
    }
   ],
   "source": [
    "widgets.interactive_output(pitch_bb_type_bar, {'data': widgets.fixed(statcast_df),\n",
    "                                               'pitcher_name_filter':pitcher_name_case,\n",
    "                                               'pitch_name_filter':pitch_name_case,\n",
    "                                               'stand_filter':stand_case,\n",
    "                                               'batter_name_filter':batter_name_case,\n",
    "                                               'count_filter':count_case,\n",
    "                                               'count_advantage_filter':count_advantage_case,\n",
    "                                               'outs_when_up_filter':outs_when_up_case,\n",
    "                                               'inning_filter':inning_case,\n",
    "                                               'runners_on_base_filter':runners_on_base_case,\n",
    "                                               'run_differential_filter':run_differential_case})"
   ]
  },
  {
   "cell_type": "markdown",
   "metadata": {
    "extensions": {
     "jupyter_dashboards": {
      "version": 1,
      "views": {
       "default_view": {
        "col": 0,
        "height": 2,
        "row": 99,
        "width": 12
       }
      }
     }
    },
    "id": "8Rk1-M70-Jsv"
   },
   "source": [
    "### Batted Ball Location"
   ]
  },
  {
   "cell_type": "markdown",
   "metadata": {},
   "source": [
    "In addition to results and contact types, pitcher's batted ball location may determine how defenses are going to position themselves against certain hitters. \n",
    "\n",
    "Use the filters above to select hitter stance and/or a hitter and view their resulting batter ball locations."
   ]
  },
  {
   "cell_type": "code",
   "execution_count": 44,
   "metadata": {
    "extensions": {
     "jupyter_dashboards": {
      "version": 1,
      "views": {
       "default_view": {
        "col": 0,
        "height": 2,
        "row": 101,
        "width": 12
       }
      }
     }
    }
   },
   "outputs": [
    {
     "data": {
      "application/vnd.jupyter.widget-view+json": {
       "model_id": "1d10fd09ab28496a80ef1d8bd0ff79ba",
       "version_major": 2,
       "version_minor": 0
      },
      "text/plain": [
       "Output()"
      ]
     },
     "metadata": {},
     "output_type": "display_data"
    }
   ],
   "source": [
    "widgets.interactive_output(pitch_bb_location, {'data': widgets.fixed(statcast_df),\n",
    "                                               'pitcher_name_filter':pitcher_name_case,\n",
    "                                               'pitch_name_filter':pitch_name_case,\n",
    "                                               'stand_filter':stand_case,\n",
    "                                               'batter_name_filter':batter_name_case,\n",
    "                                               'count_filter':count_case,\n",
    "                                               'count_advantage_filter':count_advantage_case,\n",
    "                                               'outs_when_up_filter':outs_when_up_case,\n",
    "                                               'inning_filter':inning_case,\n",
    "                                               'runners_on_base_filter':runners_on_base_case,\n",
    "                                               'run_differential_filter':run_differential_case})"
   ]
  },
  {
   "cell_type": "markdown",
   "metadata": {},
   "source": [
    "### MLB Comparison"
   ]
  },
  {
   "cell_type": "markdown",
   "metadata": {},
   "source": [
    "Several modern day statistics used to assess pitcher performance are:\n",
    "* Strike %: The percentage of pitches thrown deemed as strikes.\n",
    "* Whiff %: The percentage of pitches thrown which resulted in a swing and miss.\n",
    "* wOBA: version of on-base percentage accounting for how a player reached base. The value for each method of reaching base is determined by how much that event is worth in relation to projected runs scored (example: a double is worth more than a single) [(source)](https://www.mlb.com/glossary/advanced-stats/weighted-on-base-average).\n",
    "* Exit Velocity: How fast, in miles per hour, a ball was hit by a batter (on average).\n",
    "* Spin Rate: How much spin, in revolutions per minute, a pitch was thrown with (on average).\n",
    "\n",
    "We can compare each pitcher to the rest of the league by analyzing their percentile rank amongst other MLB pitchers across these statistical categories. The higher the percentile, the better the pitcher performs in the respective statistical category against other MLB pitchers. The radar chart below displays a relative comparison of the selected pitcher across each category. The chart depicts which statistic(s) the player performs exceptional and/or poorly.\n",
    "\n",
    "Use the filters above to determine percentile ranks for pitch types, hitter stance, scenarios, etc."
   ]
  },
  {
   "cell_type": "code",
   "execution_count": 45,
   "metadata": {
    "colab": {
     "base_uri": "https://localhost:8080/",
     "height": 542
    },
    "executionInfo": {
     "elapsed": 271,
     "status": "ok",
     "timestamp": 1657408230162,
     "user": {
      "displayName": "Joel Klein",
      "userId": "12422283647264597477"
     },
     "user_tz": 360
    },
    "extensions": {
     "jupyter_dashboards": {
      "version": 1,
      "views": {
       "default_view": {
        "col": 0,
        "height": 2,
        "row": 110,
        "width": 12
       }
      }
     }
    },
    "id": "EWqa1JgmMu2I",
    "outputId": "5573b1d0-5e30-42bd-d44a-1bac1ab94174",
    "scrolled": false
   },
   "outputs": [
    {
     "data": {
      "application/vnd.jupyter.widget-view+json": {
       "model_id": "3c7cd86315284d22ad6128148dc2a5d5",
       "version_major": 2,
       "version_minor": 0
      },
      "text/plain": [
       "Output()"
      ]
     },
     "metadata": {},
     "output_type": "display_data"
    }
   ],
   "source": [
    "widgets.interactive_output(pitcher_compare, {'data': widgets.fixed(statcast_df),\n",
    "                                             'pitcher_name_filter':pitcher_name_case,\n",
    "                                             'pitch_name_filter':pitch_name_case,\n",
    "                                             'stand_filter':stand_case,\n",
    "                                             'batter_name_filter':batter_name_case,\n",
    "                                             'count_filter':count_case,\n",
    "                                             'count_advantage_filter':count_advantage_case,\n",
    "                                             'outs_when_up_filter':outs_when_up_case,\n",
    "                                             'inning_filter':inning_case,\n",
    "                                             'runners_on_base_filter':runners_on_base_case,\n",
    "                                             'run_differential_filter':run_differential_case})"
   ]
  },
  {
   "cell_type": "code",
   "execution_count": 46,
   "metadata": {},
   "outputs": [
    {
     "name": "stdout",
     "output_type": "stream",
     "text": [
      "3.9.13\n"
     ]
    }
   ],
   "source": [
    "from platform import python_version\n",
    "\n",
    "print(python_version())"
   ]
  },
  {
   "cell_type": "markdown",
   "metadata": {
    "extensions": {
     "jupyter_dashboards": {
      "version": 1,
      "views": {
       "default_view": {
        "col": 0,
        "height": 2,
        "row": 103,
        "width": 12
       }
      }
     }
    }
   },
   "source": [
    "### Times Through Lineup"
   ]
  },
  {
   "cell_type": "markdown",
   "metadata": {},
   "source": [
    "Often hitters perform better each additional chance they receive against a pitcher in a game. The highest performing pitchers typically do not decline in performance multiple times through the order.\n",
    "\n",
    "Select a performance measure to see if there is drop off in the pitcher's average performance as the pitcher faces hitters multiple times throughout games. "
   ]
  },
  {
   "cell_type": "code",
   "execution_count": 47,
   "metadata": {
    "extensions": {
     "jupyter_dashboards": {
      "version": 1,
      "views": {
       "default_view": {
        "hidden": true
       }
      }
     }
    }
   },
   "outputs": [],
   "source": [
    "# pitch location breakdown options\n",
    "options = ['Strike %',\n",
    "           'Whiff %',\n",
    "           'wOBA',\n",
    "           'Exit Velocity',\n",
    "           'Spin Rate']\n",
    "\n",
    "# breakdown_var\n",
    "breakdown_tto_var_case = widgets.Dropdown(\n",
    "    options=options,\n",
    "    value='Strike %',\n",
    "    description='Pitcher Performance Indicator',\n",
    "    disabled=False\n",
    ")"
   ]
  },
  {
   "cell_type": "code",
   "execution_count": 48,
   "metadata": {
    "extensions": {
     "jupyter_dashboards": {
      "version": 1,
      "views": {
       "default_view": {
        "col": 0,
        "height": 2,
        "row": 105,
        "width": 12
       }
      }
     }
    }
   },
   "outputs": [
    {
     "data": {
      "application/vnd.jupyter.widget-view+json": {
       "model_id": "7a838e3fe59e4da1bd644bac4a847b20",
       "version_major": 2,
       "version_minor": 0
      },
      "text/plain": [
       "Dropdown(description='Pitcher Performance Indicator', options=('Strike %', 'Whiff %', 'wOBA', 'Exit Velocity',…"
      ]
     },
     "metadata": {},
     "output_type": "display_data"
    }
   ],
   "source": [
    "breakdown_tto_var_case"
   ]
  },
  {
   "cell_type": "code",
   "execution_count": 49,
   "metadata": {
    "extensions": {
     "jupyter_dashboards": {
      "version": 1,
      "views": {
       "default_view": {
        "col": 0,
        "height": 2,
        "row": 107,
        "width": 12
       }
      }
     }
    },
    "scrolled": false
   },
   "outputs": [
    {
     "data": {
      "application/vnd.jupyter.widget-view+json": {
       "model_id": "f3f5598ae0fc4aaf82616857ef952eb3",
       "version_major": 2,
       "version_minor": 0
      },
      "text/plain": [
       "Output()"
      ]
     },
     "metadata": {},
     "output_type": "display_data"
    }
   ],
   "source": [
    "widgets.interactive_output(pitcher_tto_line, {'data': widgets.fixed(statcast_df),\n",
    "                                              'pitcher_name_filter':pitcher_name_case,\n",
    "                                              'pitch_name_filter':pitch_name_case,\n",
    "                                              'stand_filter':stand_case,\n",
    "                                              'batter_name_filter':batter_name_case,\n",
    "                                              'count_filter':count_case,\n",
    "                                              'count_advantage_filter':count_advantage_case,\n",
    "                                              'outs_when_up_filter':outs_when_up_case,\n",
    "                                              'inning_filter':inning_case,\n",
    "                                              'runners_on_base_filter':runners_on_base_case,\n",
    "                                              'run_differential_filter':run_differential_case,\n",
    "                                              'breakdown_tto_var_filter':breakdown_tto_var_case})"
   ]
  }
 ],
 "metadata": {
  "colab": {
   "collapsed_sections": [
    "lWmA2eCigvKw",
    "x9HT0qCwhbFN",
    "WbbO4WK7hsWT"
   ],
   "machine_shape": "hm",
   "name": "02_scouting_report.ipynb",
   "provenance": [
    {
     "file_id": "1eFpuuDAccULNYDGGKbGfG10-eqn2Ouf0",
     "timestamp": 1638318383364
    },
    {
     "file_id": "1G6UjsXrkONozO_B_6dAAubDpmDh4CnZh",
     "timestamp": 1637502813543
    }
   ]
  },
  "extensions": {
   "jupyter_dashboards": {
    "activeView": "default_view",
    "version": 1,
    "views": {
     "default_view": {
      "cellMargin": 10,
      "defaultCellHeight": 40,
      "maxColumns": 12,
      "name": "active_view",
      "type": "grid"
     }
    }
   }
  },
  "kernelspec": {
   "display_name": "venv",
   "language": "python",
   "name": "venv"
  },
  "language_info": {
   "codemirror_mode": {
    "name": "ipython",
    "version": 3
   },
   "file_extension": ".py",
   "mimetype": "text/x-python",
   "name": "python",
   "nbconvert_exporter": "python",
   "pygments_lexer": "ipython3",
   "version": "3.9.13"
  },
  "toc": {
   "base_numbering": 1,
   "nav_menu": {},
   "number_sections": true,
   "sideBar": true,
   "skip_h1_title": false,
   "title_cell": "Table of Contents",
   "title_sidebar": "Contents",
   "toc_cell": false,
   "toc_position": {},
   "toc_section_display": true,
   "toc_window_display": false
  }
 },
 "nbformat": 4,
 "nbformat_minor": 1
}
