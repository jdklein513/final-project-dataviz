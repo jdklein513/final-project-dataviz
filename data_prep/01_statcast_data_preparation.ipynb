{
 "cells": [
  {
   "cell_type": "markdown",
   "metadata": {
    "id": "hJULtPG9guNm"
   },
   "source": [
    "# Statcast Data Preparation\n",
    "\n",
    "**Author:** Joel Klein\n",
    "\n",
    "**Date:** July 1, 2022\n",
    "\n",
    "**Description:** This script loads in MLB statcast data from every MLB registered pitch in 2021 from starting pitchers and prepares the data for use in the starting pitcher scouting report. \n",
    "\n",
    "**Data:** The data is scraped from *baseballsavant.com* for 2021. The code for scraping the data and making the data available is called 00_statcast_data_download.ipynb in the code folder of this repository.\n",
    "\n",
    "**Scope:** We will use MLB pitch data in 2021 for starting pitchers. We will filter the scope of pitchers in the data to be any pitcher who started a game in 2021 and threw more than 100 pitches.\n",
    "\n",
    "**Summary:**\n",
    "\n",
    "There are a series of data preparation steps in this notebook: \n",
    "\n",
    "* **Filter to only starting pitchers w/ over 100 pitches in 2021 season**\n",
    "  * We are building scouting reports for MLB starting pitchers. So we will filter the data to only pitchers who started a game in 2021. \n",
    "  * We also do not want to include pitchers throwing under 100 pitches as the data is likely not reliable for identifying pitcher tendencies with that little data.\n",
    "\n",
    "* **Filter to only the first 9 innings of pitches:**\n",
    "  * There are very few games which enter extra innings so we will exclude extras from scope.\n",
    "\n",
    "* **Filter rare pitch types:** \n",
    "    \n",
    "  The pitch types in scope for this analysis are:\n",
    "    - 4-Seam Fastball\n",
    "    - Slider\n",
    "    - 2-Seam Fastball\n",
    "    - Changeup\n",
    "    - Sinker\n",
    "    - Curveball\n",
    "    - Cutter\n",
    "    - Knuckle Curve\n",
    "    - Split-Finger\n",
    "\n",
    "* **Input Feature Engineering:**\n",
    "  * Create current pitch count feature - the pitch count impacts the types of pitches thrown\n",
    "  * Create pitcher and hitter indicator statistics such as wOBA and whiff %\n",
    "  * Create run differential between pitching and hitting team\n",
    "  * Normalize pitch height based on batter height\n",
    "  * Assign batted ball type to label\n",
    "  * Reformat event\n",
    "  * Calculate next pitch count\n",
    "\n",
    "**Notes:** \n",
    "\n",
    "**Warnings:** \n",
    "\n",
    "**Outline:** \n",
    "  - Import Libraries\n",
    "  - Global Options\n",
    "  - Set Directories\n",
    "  - Define Functions\n",
    "  - Load Data\n",
    "  - Data Filtering\n",
    "  - Data Preparation\n",
    "    - Feature Engineering\n",
    "  "
   ]
  },
  {
   "cell_type": "markdown",
   "metadata": {
    "id": "Vwx_cBcmgvIh"
   },
   "source": [
    "## Import Libraries"
   ]
  },
  {
   "cell_type": "code",
   "execution_count": 1,
   "metadata": {
    "colab": {
     "base_uri": "https://localhost:8080/"
    },
    "executionInfo": {
     "elapsed": 8700,
     "status": "ok",
     "timestamp": 1657404295485,
     "user": {
      "displayName": "Joel Klein",
      "userId": "12422283647264597477"
     },
     "user_tz": 360
    },
    "id": "vjGBv3RKg0mS",
    "outputId": "408275b8-f1fb-4454-8529-e1040c7ad1da"
   },
   "outputs": [],
   "source": [
    "# data manipulation\n",
    "import numpy as np\n",
    "import pandas as pd \n",
    "import os\n",
    "import zipfile\n",
    "\n",
    "# plotting\n",
    "import seaborn as sns\n",
    "import matplotlib.pyplot as plt\n",
    "\n",
    "# image insertion\n",
    "from IPython.display import Image\n",
    "from IPython.core.display import HTML \n",
    "\n",
    "# pybaseball\n",
    "import pybaseball as pyb\n",
    "from pybaseball import playerid_reverse_lookup"
   ]
  },
  {
   "cell_type": "markdown",
   "metadata": {
    "id": "lWmA2eCigvKw"
   },
   "source": [
    "## Global Options"
   ]
  },
  {
   "cell_type": "code",
   "execution_count": 2,
   "metadata": {
    "executionInfo": {
     "elapsed": 8,
     "status": "ok",
     "timestamp": 1657404295486,
     "user": {
      "displayName": "Joel Klein",
      "userId": "12422283647264597477"
     },
     "user_tz": 360
    },
    "id": "zRn1T74RhC07"
   },
   "outputs": [],
   "source": [
    "# do not show warnings\n",
    "import warnings\n",
    "warnings.filterwarnings('ignore')\n",
    "\n",
    "# set pandas display options\n",
    "pd.set_option('display.max_rows', 500)\n",
    "pd.set_option('display.max_columns', 500)\n",
    "pd.set_option('display.width', 2000)\n",
    "pd.set_option('display.max_colwidth', 2000)\n",
    "pd.options.display.float_format = '{:.5f}'.format"
   ]
  },
  {
   "cell_type": "markdown",
   "metadata": {
    "id": "x9HT0qCwhbFN"
   },
   "source": [
    "## Set Directories"
   ]
  },
  {
   "cell_type": "code",
   "execution_count": 3,
   "metadata": {
    "colab": {
     "base_uri": "https://localhost:8080/"
    },
    "executionInfo": {
     "elapsed": 14658,
     "status": "ok",
     "timestamp": 1657404310137,
     "user": {
      "displayName": "Joel Klein",
      "userId": "12422283647264597477"
     },
     "user_tz": 360
    },
    "id": "y7rTjs1jhen9",
    "outputId": "e622ed00-d463-43e7-8952-db22554e4588"
   },
   "outputs": [],
   "source": [
    "# set data directory\n",
    "DATA_DIR = \"C:/Users/13202/final-project-dataviz/data\""
   ]
  },
  {
   "cell_type": "markdown",
   "metadata": {
    "id": "WbbO4WK7hsWT"
   },
   "source": [
    "## Define Functions"
   ]
  },
  {
   "cell_type": "code",
   "execution_count": 4,
   "metadata": {
    "executionInfo": {
     "elapsed": 7,
     "status": "ok",
     "timestamp": 1657404310138,
     "user": {
      "displayName": "Joel Klein",
      "userId": "12422283647264597477"
     },
     "user_tz": 360
    },
    "id": "BYBm_Yq9hvMX"
   },
   "outputs": [],
   "source": [
    "# define a function for loading in dataset\n",
    "def load_data(in_path, name):\n",
    "    df = pd.read_csv(in_path, sep=';')\n",
    "    print(f\"{name}: shape is {df.shape}\")\n",
    "    return df"
   ]
  },
  {
   "cell_type": "markdown",
   "metadata": {
    "id": "P4MStBqLhgvJ"
   },
   "source": [
    "## Load Data"
   ]
  },
  {
   "cell_type": "code",
   "execution_count": 5,
   "metadata": {
    "colab": {
     "base_uri": "https://localhost:8080/"
    },
    "executionInfo": {
     "elapsed": 13453,
     "status": "ok",
     "timestamp": 1657404323585,
     "user": {
      "displayName": "Joel Klein",
      "userId": "12422283647264597477"
     },
     "user_tz": 360
    },
    "id": "k3oo9FGehf5B",
    "outputId": "8534f357-887d-4ffb-c168-f38e834a60a3"
   },
   "outputs": [
    {
     "name": "stdout",
     "output_type": "stream",
     "text": [
      "all_21_dataframe: shape is (709851, 93)\n"
     ]
    }
   ],
   "source": [
    "# set the input data set names we will load in\n",
    "ds_name = \"all_21_dataframe\"\n",
    "\n",
    "# load in each dataset\n",
    "statcast_df = load_data(os.path.join(DATA_DIR, f'{ds_name}.csv'), ds_name)"
   ]
  },
  {
   "cell_type": "markdown",
   "metadata": {
    "id": "DwD1Al2nOlR3"
   },
   "source": [
    "## Data Filtering"
   ]
  },
  {
   "cell_type": "markdown",
   "metadata": {
    "id": "056pw010Pt1f"
   },
   "source": [
    "### Filtering out extra innings"
   ]
  },
  {
   "cell_type": "markdown",
   "metadata": {
    "id": "IE0CYWTmMv1J"
   },
   "source": [
    "There are games which can go into extra innings. We will remove any at-bats which occur in extra innings from the data as these events are not common in the MLB. "
   ]
  },
  {
   "cell_type": "code",
   "execution_count": 6,
   "metadata": {
    "executionInfo": {
     "elapsed": 319,
     "status": "ok",
     "timestamp": 1657404323900,
     "user": {
      "displayName": "Joel Klein",
      "userId": "12422283647264597477"
     },
     "user_tz": 360
    },
    "id": "2Ci6MVOpL6jI"
   },
   "outputs": [],
   "source": [
    "##### Data Filtering to First 9 innings ----\n",
    "\n",
    "# we are only going to predict the first 9 innings\n",
    "statcast_df = statcast_df[statcast_df['inning'] <= 9.0]"
   ]
  },
  {
   "cell_type": "markdown",
   "metadata": {
    "id": "htXXfRkOPy-c"
   },
   "source": [
    "### Filtering to only starting pitchers with greater than 100 pitches in 2021 season"
   ]
  },
  {
   "cell_type": "markdown",
   "metadata": {
    "id": "WuHCaQ8BZmWL"
   },
   "source": [
    "We are only including pitchers who started an MLB game in 2021. \n",
    "\n",
    "There are many instances in major league baseball where relief pitchers start a game and receive at-bats and there is little pitch data. We will filter the data set to only include pitchers with over 100 pitches in the 2021 season."
   ]
  },
  {
   "cell_type": "code",
   "execution_count": 7,
   "metadata": {
    "executionInfo": {
     "elapsed": 421,
     "status": "ok",
     "timestamp": 1657404324318,
     "user": {
      "displayName": "Joel Klein",
      "userId": "12422283647264597477"
     },
     "user_tz": 360
    },
    "id": "JetqY7tfoyiJ"
   },
   "outputs": [],
   "source": [
    "##### Filter to only starting pitchers -----\n",
    "\n",
    "# get at bat numbers of situations where there are 0 outs in the first inning\n",
    "first_inning_ab_0_outs_df = statcast_df[(statcast_df['inning'] == 1) & (statcast_df['outs_when_up'] == 0)][['game_pk', 'inning_topbot', 'at_bat_number', 'pitcher']].drop_duplicates()\n",
    "\n",
    "# get starting pitchers in 2021 by filtering previous data frame to only pitcher ids pitching first at bat of the game\n",
    "starting_pitchers = first_inning_ab_0_outs_df[first_inning_ab_0_outs_df['at_bat_number'] == first_inning_ab_0_outs_df.groupby(['game_pk', 'inning_topbot'])['at_bat_number'].transform('min')]['pitcher'].unique()\n",
    "\n",
    "# filter the data to only get starting pitchers\n",
    "statcast_starting_pitcher_df = statcast_df[statcast_df[\"pitcher\"].isin(starting_pitchers)]\n",
    "\n",
    "# filter the data to only get starting pitchers who threw over 100 pitches in 2021 season\n",
    "statcast_starting_pitcher_df = statcast_starting_pitcher_df[statcast_starting_pitcher_df.groupby(['pitcher'])['pitcher'].transform('count') >= 100]"
   ]
  },
  {
   "cell_type": "markdown",
   "metadata": {
    "id": "pnUs5Hw5vqeS"
   },
   "source": [
    "The pitcher is listed as an id rather than by name. For the visualization layer, we want to map the pitcher id to pitcher name. "
   ]
  },
  {
   "cell_type": "code",
   "execution_count": 8,
   "metadata": {
    "executionInfo": {
     "elapsed": 2556,
     "status": "ok",
     "timestamp": 1657404332398,
     "user": {
      "displayName": "Joel Klein",
      "userId": "12422283647264597477"
     },
     "user_tz": 360
    },
    "id": "Q36t4rk6x0gV"
   },
   "outputs": [
    {
     "name": "stdout",
     "output_type": "stream",
     "text": [
      "Gathering player lookup table. This may take a moment.\n"
     ]
    }
   ],
   "source": [
    "##### Get pitcher name from pitcher id -----\n",
    "\n",
    "# get a numpy array of pitcher names by looking up pitcher names with pybaseball\n",
    "starting_pitchers_names = pd.Series([(playerid_reverse_lookup([i])['name_first'].str.capitalize() + ' ' +  playerid_reverse_lookup([i])['name_last'].str.capitalize())[0] for i in list(starting_pitchers)])\n",
    "\n",
    "# get a reference table of the pitcher id and pitcher name\n",
    "starting_pitcher_ref_df = pd.DataFrame({'pitcher': starting_pitchers, 'pitcher_name': starting_pitchers_names}, columns=['pitcher', 'pitcher_name'])\n",
    "\n",
    "# get pitcher name from pitcher id\n",
    "statcast_starting_pitcher_df = statcast_starting_pitcher_df.merge(starting_pitcher_ref_df, on='pitcher', how='left')"
   ]
  },
  {
   "cell_type": "markdown",
   "metadata": {},
   "source": [
    "### Get Batter Names"
   ]
  },
  {
   "cell_type": "code",
   "execution_count": 9,
   "metadata": {},
   "outputs": [],
   "source": [
    "# return unique batters\n",
    "batters = statcast_starting_pitcher_df['batter'].unique()\n",
    "\n",
    "# get a numpy array of batter names by looking up pitcher names with pybaseball\n",
    "batters_names = pd.Series([(playerid_reverse_lookup([i])['name_first'].str.capitalize() + ' ' +  playerid_reverse_lookup([i])['name_last'].str.capitalize())[0] for i in list(batters)])\n",
    "\n",
    "# get a reference table of the batter id and batter name\n",
    "batters_ref_df = pd.DataFrame({'batter': batters, 'batter_name': batters_names}, columns=['batter', 'batter_name'])\n",
    "\n",
    "# get pitcher name from pitcher id\n",
    "statcast_starting_pitcher_df = statcast_starting_pitcher_df.merge(batters_ref_df, on='batter', how='left')"
   ]
  },
  {
   "cell_type": "markdown",
   "metadata": {
    "id": "uu298807nr0X"
   },
   "source": [
    "### Filtering rare pitch types"
   ]
  },
  {
   "cell_type": "markdown",
   "metadata": {
    "id": "ykDhNxAmTFX9"
   },
   "source": [
    "There are several pitch types in the data set. "
   ]
  },
  {
   "cell_type": "code",
   "execution_count": 10,
   "metadata": {
    "colab": {
     "base_uri": "https://localhost:8080/"
    },
    "executionInfo": {
     "elapsed": 6,
     "status": "ok",
     "timestamp": 1657404332398,
     "user": {
      "displayName": "Joel Klein",
      "userId": "12422283647264597477"
     },
     "user_tz": 360
    },
    "id": "DL-4V1BKbHwg",
    "outputId": "4d9d4b90-b0a7-4698-fc65-e3b0d0af1ba7"
   },
   "outputs": [
    {
     "data": {
      "text/plain": [
       "array(['FF', 'SL', 'CU', 'SI', 'FS', 'FC', 'CH', 'KC', nan, 'FA', 'CS',\n",
       "       'KN', 'EP', 'SC'], dtype=object)"
      ]
     },
     "execution_count": 10,
     "metadata": {},
     "output_type": "execute_result"
    }
   ],
   "source": [
    "# Unique pitch types -- these will end up being our target class in the NN\n",
    "statcast_df.pitch_type.unique()"
   ]
  },
  {
   "cell_type": "markdown",
   "metadata": {
    "id": "nVWF3ek51Zam"
   },
   "source": [
    "Some of the pitch types in the raw data are very rare. We will only keep the commonly thrown pitch types in scope for the scouting report."
   ]
  },
  {
   "cell_type": "code",
   "execution_count": 11,
   "metadata": {
    "colab": {
     "base_uri": "https://localhost:8080/"
    },
    "executionInfo": {
     "elapsed": 178,
     "status": "ok",
     "timestamp": 1657404332573,
     "user": {
      "displayName": "Joel Klein",
      "userId": "12422283647264597477"
     },
     "user_tz": 360
    },
    "id": "3eTIIq90dfXP",
    "outputId": "f3db0762-5759-4b3a-bb79-d536ad67b4e5"
   },
   "outputs": [
    {
     "name": "stdout",
     "output_type": "stream",
     "text": [
      "   pitch_type   Count\n",
      "0          CH   60390\n",
      "1          CS      46\n",
      "2          CU   43512\n",
      "3          EP       2\n",
      "4          FA       9\n",
      "5          FC   34695\n",
      "6          FF  167056\n",
      "7          FS    8061\n",
      "8          KC   11581\n",
      "9          SI   74993\n",
      "10         SL   84251\n"
     ]
    }
   ],
   "source": [
    "# Get a table of each pitch type's average movement in the X and Y directions, with velocity\n",
    "pitch_type_count = statcast_starting_pitcher_df.groupby(by=[\"pitch_type\"], as_index=False).agg(\n",
    "    **{\n",
    "       \"Count\": pd.NamedAgg(column=\"pitch_type\", aggfunc='count'),\n",
    "    }\n",
    ")\n",
    "\n",
    "print(pitch_type_count)"
   ]
  },
  {
   "cell_type": "markdown",
   "metadata": {
    "id": "cEeFC-hBkO42"
   },
   "source": [
    "Filter out rarely used pitch types -- CS, EP, FA"
   ]
  },
  {
   "cell_type": "code",
   "execution_count": 12,
   "metadata": {
    "executionInfo": {
     "elapsed": 374,
     "status": "ok",
     "timestamp": 1657404332946,
     "user": {
      "displayName": "Joel Klein",
      "userId": "12422283647264597477"
     },
     "user_tz": 360
    },
    "id": "7jEbdQAAgHnU"
   },
   "outputs": [],
   "source": [
    "# filter out rare pitch types\n",
    "statcast_starting_pitcher_df = statcast_starting_pitcher_df[~statcast_starting_pitcher_df['pitch_type'].isin(['CS', 'EP', 'FA'])]"
   ]
  },
  {
   "cell_type": "markdown",
   "metadata": {
    "id": "FR2zRv74b58_"
   },
   "source": [
    "## Feature Engineering"
   ]
  },
  {
   "cell_type": "markdown",
   "metadata": {
    "id": "rjBVKZNc0rR3"
   },
   "source": [
    "### Creating Count Feature"
   ]
  },
  {
   "cell_type": "markdown",
   "metadata": {
    "id": "V5yUC35STz7F"
   },
   "source": [
    "The pitch count impacts the types of pitches thrown. It is important to combine the balls and strikes into 1 feature as they are used together to determine the pitch type which will be thrown. There are also a hand full of instances in the data which have 4 balls for the current count. We will replace 4 balls with 3 balls. "
   ]
  },
  {
   "cell_type": "code",
   "execution_count": 13,
   "metadata": {
    "executionInfo": {
     "elapsed": 673,
     "status": "ok",
     "timestamp": 1657404333615,
     "user": {
      "displayName": "Joel Klein",
      "userId": "12422283647264597477"
     },
     "user_tz": 360
    },
    "id": "Wx_kDYon9S_1"
   },
   "outputs": [],
   "source": [
    "# there are some rows which have 4 balls for the count which is impossible\n",
    "# we will fix those rows by replacing four balls with three\n",
    "statcast_starting_pitcher_df[\"balls\"][statcast_starting_pitcher_df[\"balls\"] == 4] = 3\n",
    "\n",
    "# Add count column to df\n",
    "statcast_starting_pitcher_df[\"count\"] = statcast_starting_pitcher_df[\"balls\"].astype(int).astype(str) + \"-\" + statcast_starting_pitcher_df[\"strikes\"].astype(int).astype(str)\n",
    "\n",
    "# recategorize pitch counts into aggregate levels even, ahead, behind\n",
    "statcast_starting_pitcher_df['count_advantage'] = np.where(statcast_starting_pitcher_df['count'].isin(['1-0', '2-1', '3-2']), 'Even',\n",
    "                                                  np.where(statcast_starting_pitcher_df['count'].isin(['0-0', '0-1', '1-1']), 'Ahead (<2 strikes)', \n",
    "                                                  np.where(statcast_starting_pitcher_df['count'].isin(['0-2', '1-2', '2-2']), 'Ahead (2 strikes)',\n",
    "                                                  np.where(statcast_starting_pitcher_df['count'].isin(['2-0', '3-0', '3-1']), 'Behind', 'NA'))))"
   ]
  },
  {
   "cell_type": "markdown",
   "metadata": {
    "id": "UVLsztM38Gx_"
   },
   "source": [
    "### Modify the on base features"
   ]
  },
  {
   "cell_type": "markdown",
   "metadata": {
    "id": "cXiJ16dVMWaA"
   },
   "source": [
    "The on base features in the data in the original data represent player ids, when there is a runner on the base and NaN if there is not a runner on. We will transform this feature to be an indicator if there is a runner on the base as the runner likely doesn't affect the pitch type."
   ]
  },
  {
   "cell_type": "code",
   "execution_count": 14,
   "metadata": {
    "executionInfo": {
     "elapsed": 262,
     "status": "ok",
     "timestamp": 1657404333875,
     "user": {
      "displayName": "Joel Klein",
      "userId": "12422283647264597477"
     },
     "user_tz": 360
    },
    "id": "-iVCEs8r6SUF"
   },
   "outputs": [],
   "source": [
    "# change the on base fields to indicators\n",
    "statcast_starting_pitcher_df['on_1b'] = np.where(statcast_starting_pitcher_df['on_1b'].isna(), 0, 1)\n",
    "statcast_starting_pitcher_df['on_2b'] = np.where(statcast_starting_pitcher_df['on_2b'].isna(), 0, 1)\n",
    "statcast_starting_pitcher_df['on_3b'] = np.where(statcast_starting_pitcher_df['on_3b'].isna(), 0, 1)"
   ]
  },
  {
   "cell_type": "code",
   "execution_count": 15,
   "metadata": {},
   "outputs": [],
   "source": [
    "# create a category for runners on base\n",
    "statcast_starting_pitcher_df['runners_on_base'] = np.where((statcast_starting_pitcher_df['on_1b'] == 0) & (statcast_starting_pitcher_df['on_2b'] == 0) & (statcast_starting_pitcher_df['on_3b'] == 0), 'Empty',\n",
    "                                                  np.where((statcast_starting_pitcher_df['on_1b'] == 1) & (statcast_starting_pitcher_df['on_2b'] == 0) & (statcast_starting_pitcher_df['on_3b'] == 0), '1B',\n",
    "                                                  np.where((statcast_starting_pitcher_df['on_1b'] == 0) & (statcast_starting_pitcher_df['on_2b'] == 1) & (statcast_starting_pitcher_df['on_3b'] == 0), '2B',\n",
    "                                                  np.where((statcast_starting_pitcher_df['on_1b'] == 0) & (statcast_starting_pitcher_df['on_2b'] == 0) & (statcast_starting_pitcher_df['on_3b'] == 1), '3B',\n",
    "                                                  np.where((statcast_starting_pitcher_df['on_1b'] == 1) & (statcast_starting_pitcher_df['on_2b'] == 1) & (statcast_starting_pitcher_df['on_3b'] == 0), '1B & 2B',\n",
    "                                                  np.where((statcast_starting_pitcher_df['on_1b'] == 1) & (statcast_starting_pitcher_df['on_2b'] == 0) & (statcast_starting_pitcher_df['on_3b'] == 1), '1B & 3B',\n",
    "                                                  np.where((statcast_starting_pitcher_df['on_1b'] == 0) & (statcast_starting_pitcher_df['on_2b'] == 1) & (statcast_starting_pitcher_df['on_3b'] == 1), '2B & 3B',\n",
    "                                                  np.where((statcast_starting_pitcher_df['on_1b'] == 1) & (statcast_starting_pitcher_df['on_2b'] == 1) & (statcast_starting_pitcher_df['on_3b'] == 1), 'Bases Loaded', np.nan))))))))"
   ]
  },
  {
   "cell_type": "markdown",
   "metadata": {
    "id": "0qYV1G6DkI3h"
   },
   "source": [
    "### Pitcher statistics"
   ]
  },
  {
   "cell_type": "markdown",
   "metadata": {
    "id": "nPjykbyJkQGp"
   },
   "source": [
    "We are looking to calculate the whiff percentage of certain pitch types for a pitcher in the scouting report. We will need to calculate a whiff indicator."
   ]
  },
  {
   "cell_type": "code",
   "execution_count": 16,
   "metadata": {
    "executionInfo": {
     "elapsed": 4,
     "status": "ok",
     "timestamp": 1657404333876,
     "user": {
      "displayName": "Joel Klein",
      "userId": "12422283647264597477"
     },
     "user_tz": 360
    },
    "id": "rz8nDJvw3s7R"
   },
   "outputs": [],
   "source": [
    "# create strike percentage feature\n",
    "statcast_starting_pitcher_df['strike_ind'] = statcast_starting_pitcher_df['description'].isin(['called_strike', 'foul', 'foul_tip', 'swinging_strike', 'hit_into_play', 'hit_into_play', 'foul', 'foul_bunt', 'missed_bunt', 'bunt_foul_tip'])\n",
    "\n",
    "# create whiff percentage feature\n",
    "statcast_starting_pitcher_df['whiff_ind'] = np.where(statcast_starting_pitcher_df['description'].isin(['swinging_strike', 'swinging_strike_blocked', 'foul_tip']), 1, \n",
    "                                            np.where(statcast_starting_pitcher_df['description'].isin(['hit_into_play', 'foul', 'foul_bunt', 'missed_bunt', 'bunt_foul_tip']), 0, np.nan))"
   ]
  },
  {
   "cell_type": "markdown",
   "metadata": {
    "id": "H3hWGwu5kIEx"
   },
   "source": [
    "Calculate the number of times the pitcher has faced that batter in the current game. Often, the pitcher will try not to throw too many of the same pitch class to the same batter, as there is a negative correlation with performance."
   ]
  },
  {
   "cell_type": "code",
   "execution_count": 17,
   "metadata": {
    "executionInfo": {
     "elapsed": 179,
     "status": "ok",
     "timestamp": 1657404334053,
     "user": {
      "displayName": "Joel Klein",
      "userId": "12422283647264597477"
     },
     "user_tz": 360
    },
    "id": "JdG5eto6kGID"
   },
   "outputs": [],
   "source": [
    "# calculate number of times the pitcher has faced that batter in the current game\n",
    "statcast_starting_pitcher_df[\"tto\"] = statcast_starting_pitcher_df.groupby([\"game_pk\", \"pitcher\", \"batter\"])[\"at_bat_number\"].rank(\"dense\", ascending=True)"
   ]
  },
  {
   "cell_type": "markdown",
   "metadata": {},
   "source": [
    "### Run Differential"
   ]
  },
  {
   "cell_type": "markdown",
   "metadata": {},
   "source": [
    "We will breakdown pitcher tendencies based on the score of the game. To simplify this feature, we will create a run differential feature for the pitcher."
   ]
  },
  {
   "cell_type": "code",
   "execution_count": 18,
   "metadata": {},
   "outputs": [],
   "source": [
    "# create run differential by subtracting the batting team's score from the pitching team's score\n",
    "statcast_starting_pitcher_df['run_differential'] = statcast_starting_pitcher_df['fld_score'] - statcast_starting_pitcher_df['bat_score']"
   ]
  },
  {
   "cell_type": "markdown",
   "metadata": {
    "id": "seU8533K5qI6"
   },
   "source": [
    "### Pitch Location Normalization"
   ]
  },
  {
   "cell_type": "markdown",
   "metadata": {
    "id": "34wf224_5tMc"
   },
   "source": [
    "There are differing heights among batters which adjusts the strike zone and effects where pitchers will locate their pitches (see image below). \n",
    "\n",
    "We need to adjust the pitch height feature to be normalized to league average based on the top and bottom of the strike zone."
   ]
  },
  {
   "cell_type": "code",
   "execution_count": 19,
   "metadata": {
    "colab": {
     "base_uri": "https://localhost:8080/",
     "height": 471
    },
    "executionInfo": {
     "elapsed": 130,
     "status": "ok",
     "timestamp": 1657404334180,
     "user": {
      "displayName": "Joel Klein",
      "userId": "12422283647264597477"
     },
     "user_tz": 360
    },
    "id": "Une8dDhCfgOj",
    "outputId": "88f1630c-28ef-4f2f-a401-2442300ca63f"
   },
   "outputs": [
    {
     "data": {
      "text/html": [
       "<img src=\"http://www.fangraphs.com/blogs/wp-content/uploads/2017/10/altuve-bregman.png\"/>"
      ],
      "text/plain": [
       "<IPython.core.display.Image object>"
      ]
     },
     "execution_count": 19,
     "metadata": {},
     "output_type": "execute_result"
    }
   ],
   "source": [
    "# view image comparing two batters with differing strike zone heights\n",
    "Image(url= \"http://www.fangraphs.com/blogs/wp-content/uploads/2017/10/altuve-bregman.png\")"
   ]
  },
  {
   "cell_type": "code",
   "execution_count": 20,
   "metadata": {
    "colab": {
     "base_uri": "https://localhost:8080/",
     "height": 352
    },
    "executionInfo": {
     "elapsed": 1100,
     "status": "ok",
     "timestamp": 1657404335274,
     "user": {
      "displayName": "Joel Klein",
      "userId": "12422283647264597477"
     },
     "user_tz": 360
    },
    "id": "uYhLPFUkQSDB",
    "outputId": "275e7952-053c-4ce0-d637-18d5906abed5"
   },
   "outputs": [
    {
     "data": {
      "text/plain": [
       "<matplotlib.axes._subplots.AxesSubplot at 0x1d7a0a219a0>"
      ]
     },
     "execution_count": 20,
     "metadata": {},
     "output_type": "execute_result"
    },
    {
     "data": {
      "image/png": "[encoded data removed]",
      "text/plain": [
       "<Figure size 1080x360 with 2 Axes>"
      ]
     },
     "metadata": {
      "needs_background": "light"
     },
     "output_type": "display_data"
    }
   ],
   "source": [
    "# plot the distribution of the bottom part of the zone for MLB pitches in scope\n",
    "fig, (ax1, ax2) = plt.subplots(1, 2, figsize=(15,5))\n",
    "sns.histplot(statcast_starting_pitcher_df['sz_bot'], bins = 30, ax=ax1)\n",
    "sns.histplot(statcast_starting_pitcher_df['sz_top'], bins = 30, ax=ax2)"
   ]
  },
  {
   "cell_type": "code",
   "execution_count": 21,
   "metadata": {
    "colab": {
     "base_uri": "https://localhost:8080/"
    },
    "executionInfo": {
     "elapsed": 6,
     "status": "ok",
     "timestamp": 1657404335274,
     "user": {
      "displayName": "Joel Klein",
      "userId": "12422283647264597477"
     },
     "user_tz": 360
    },
    "id": "zzZWfpZaRqDh",
    "outputId": "f74fcb8e-b9b6-44de-c1e6-2e73a9e30286",
    "scrolled": true
   },
   "outputs": [
    {
     "name": "stdout",
     "output_type": "stream",
     "text": [
      "The average bottom part of the zone is: 1.574895560522476\n",
      "The average middle part of the zone is: 2.4844558951910996\n",
      "The average top part of the zone is: 3.394016229859721\n"
     ]
    }
   ],
   "source": [
    "##### Normalize pitch height location to league average -----\n",
    "\n",
    "# calculate the middle part of batter zone\n",
    "statcast_starting_pitcher_df['sz_mid'] = (statcast_starting_pitcher_df['sz_bot'] + statcast_starting_pitcher_df['sz_top'])/2\n",
    "\n",
    "# calculate the average bottom part of zone\n",
    "sz_bot_avg = statcast_starting_pitcher_df['sz_bot'].mean()\n",
    "\n",
    "# calculate the average top part of zone\n",
    "sz_top_avg = statcast_starting_pitcher_df['sz_top'].mean()\n",
    "\n",
    "# calculate the average middle part of zone\n",
    "sz_mid_avg = statcast_starting_pitcher_df['sz_mid'].mean()\n",
    "\n",
    "print(\"The average bottom part of the zone is:\", sz_bot_avg)\n",
    "print(\"The average middle part of the zone is:\", sz_mid_avg)\n",
    "print(\"The average top part of the zone is:\", sz_top_avg)\n",
    "\n",
    "# normalize the pitch height to the league average relative to the batter's height\n",
    "#   1. determine distance from pitch to middle of zone\n",
    "#   2. divide by distance from bottom/top of zone to middle of zone\n",
    "#   3. multiply units from middle by league average\n",
    "#   4. add the league average middle of zone\n",
    "statcast_starting_pitcher_df['plate_z_norm'] = (statcast_starting_pitcher_df['plate_z'] - statcast_starting_pitcher_df['sz_mid']) /  \\\n",
    "                                               (statcast_starting_pitcher_df['sz_mid'] - statcast_starting_pitcher_df['sz_bot']) *  \\\n",
    "                                               (sz_mid_avg-sz_bot_avg) +  \\\n",
    "                                               sz_mid_avg"
   ]
  },
  {
   "cell_type": "markdown",
   "metadata": {},
   "source": [
    "### Batted Ball Type"
   ]
  },
  {
   "cell_type": "markdown",
   "metadata": {},
   "source": [
    "Batted ball type is listed as a number index and we are going to alter it to a category representation."
   ]
  },
  {
   "cell_type": "code",
   "execution_count": 22,
   "metadata": {},
   "outputs": [],
   "source": [
    "# label batted ball type\n",
    "statcast_starting_pitcher_df['batted_ball_type'] = np.where(statcast_starting_pitcher_df['launch_speed_angle'] == 1, 'Weak',\n",
    "                                                   np.where(statcast_starting_pitcher_df['launch_speed_angle'] == 2, 'Topped',\n",
    "                                                   np.where(statcast_starting_pitcher_df['launch_speed_angle'] == 3, 'Under',\n",
    "                                                   np.where(statcast_starting_pitcher_df['launch_speed_angle'] == 4, 'Flare/Burner',\n",
    "                                                   np.where(statcast_starting_pitcher_df['launch_speed_angle'] == 5, 'Solid Contact',\n",
    "                                                   np.where(statcast_starting_pitcher_df['launch_speed_angle'] == 6, 'Barrel', \n",
    "                                                   statcast_starting_pitcher_df['launch_speed_angle']))))))"
   ]
  },
  {
   "cell_type": "markdown",
   "metadata": {},
   "source": [
    "### Event Reformatting"
   ]
  },
  {
   "cell_type": "markdown",
   "metadata": {},
   "source": [
    "Going to change the text format for the event name."
   ]
  },
  {
   "cell_type": "code",
   "execution_count": 23,
   "metadata": {},
   "outputs": [],
   "source": [
    "# reformat events field\n",
    "statcast_starting_pitcher_df['events'] = statcast_starting_pitcher_df['events'].str.replace(\"_\", \" \").str.capitalize()"
   ]
  },
  {
   "cell_type": "markdown",
   "metadata": {},
   "source": [
    "### Next Pitch Count"
   ]
  },
  {
   "cell_type": "markdown",
   "metadata": {},
   "source": [
    "Getting the next pitch count to enable pitch count flow visual."
   ]
  },
  {
   "cell_type": "code",
   "execution_count": 24,
   "metadata": {},
   "outputs": [],
   "source": [
    "# get the next count in atbats\n",
    "statcast_starting_pitcher_df['lead_count'] = statcast_starting_pitcher_df.sort_values(['pitcher_name', 'game_pk','at_bat_number','pitch_number']).groupby(['game_pk','at_bat_number'])['count'].shift(-1)"
   ]
  },
  {
   "cell_type": "markdown",
   "metadata": {
    "id": "uTt3QNo3Rs1I"
   },
   "source": [
    "## Save output"
   ]
  },
  {
   "cell_type": "markdown",
   "metadata": {
    "id": "TsXNtztlVWFU"
   },
   "source": [
    "The training, validation, and test data sets will be used throughout the model building process. There will be several models attempted. The data sets need to be consistent across model runs. These files will be referenced throughout the model notebooks for training, tuning, and evaluating models."
   ]
  },
  {
   "cell_type": "code",
   "execution_count": 25,
   "metadata": {
    "executionInfo": {
     "elapsed": 33260,
     "status": "ok",
     "timestamp": 1657404368531,
     "user": {
      "displayName": "Joel Klein",
      "userId": "12422283647264597477"
     },
     "user_tz": 360
    },
    "id": "XocWj1SbRu2q"
   },
   "outputs": [],
   "source": [
    "##### Save the prepped data ----\n",
    "\n",
    "# Save data\n",
    "statcast_starting_pitcher_df.to_csv(os.path.join(DATA_DIR, f'pitch_data.csv'), sep=';', index = None, header = True)"
   ]
  }
 ],
 "metadata": {
  "colab": {
   "collapsed_sections": [],
   "machine_shape": "hm",
   "name": "01_statcast_data_preparation.ipynb",
   "provenance": [
    {
     "file_id": "1eFpuuDAccULNYDGGKbGfG10-eqn2Ouf0",
     "timestamp": 1638318383364
    },
    {
     "file_id": "1G6UjsXrkONozO_B_6dAAubDpmDh4CnZh",
     "timestamp": 1637502813543
    }
   ]
  },
  "kernelspec": {
   "display_name": "Python 3 (ipykernel)",
   "language": "python",
   "name": "python3"
  },
  "language_info": {
   "codemirror_mode": {
    "name": "ipython",
    "version": 3
   },
   "file_extension": ".py",
   "mimetype": "text/x-python",
   "name": "python",
   "nbconvert_exporter": "python",
   "pygments_lexer": "ipython3",
   "version": "3.9.13"
  },
  "toc": {
   "base_numbering": 1,
   "nav_menu": {},
   "number_sections": true,
   "sideBar": true,
   "skip_h1_title": false,
   "title_cell": "Table of Contents",
   "title_sidebar": "Contents",
   "toc_cell": false,
   "toc_position": {},
   "toc_section_display": true,
   "toc_window_display": false
  }
 },
 "nbformat": 4,
 "nbformat_minor": 1
}
